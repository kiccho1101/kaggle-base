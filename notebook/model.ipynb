{
 "cells": [
  {
   "cell_type": "code",
   "execution_count": null,
   "metadata": {},
   "outputs": [],
   "source": []
  },
  {
   "cell_type": "code",
   "execution_count": 9,
   "metadata": {
    "ExecuteTime": {
     "end_time": "2019-11-17T11:19:53.631270Z",
     "start_time": "2019-11-17T11:19:53.597377Z"
    }
   },
   "outputs": [
    {
     "name": "stdout",
     "output_type": "stream",
     "text": [
      "The autoreload extension is already loaded. To reload it, use:\n",
      "  %reload_ext autoreload\n"
     ]
    }
   ],
   "source": [
    "import os\n",
    "import sys\n",
    "\n",
    "# Init project path\n",
    "PROJECT_DIR = os.getcwd() + \"/../\"\n",
    "sys.path.insert(0, PROJECT_DIR)\n",
    "%load_ext autoreload\n",
    "%autoreload 2"
   ]
  },
  {
   "cell_type": "code",
   "execution_count": 10,
   "metadata": {
    "ExecuteTime": {
     "end_time": "2019-11-17T11:19:53.926213Z",
     "start_time": "2019-11-17T11:19:53.837759Z"
    }
   },
   "outputs": [],
   "source": [
    "from db import table_load\n",
    "train = table_load(\"train\")\n",
    "test = table_load(\"test\")"
   ]
  },
  {
   "cell_type": "code",
   "execution_count": 11,
   "metadata": {
    "ExecuteTime": {
     "end_time": "2019-11-17T11:19:54.796091Z",
     "start_time": "2019-11-17T11:19:54.767346Z"
    }
   },
   "outputs": [
    {
     "name": "stdout",
     "output_type": "stream",
     "text": [
      "Config file Name:  xgboost_0\n"
     ]
    }
   ],
   "source": [
    "import xgboost as xgb\n",
    "\n",
    "config_file_name = \"xgboost_0\"\n",
    "print(\"Config file Name: \", config_file_name)\n",
    "\n",
    "# Parse args\n",
    "config: dict = json.load(open(\"./../configs/{}.json\".format(config_file_name)))\n",
    "    "
   ]
  },
  {
   "cell_type": "code",
   "execution_count": 8,
   "metadata": {
    "ExecuteTime": {
     "end_time": "2019-11-17T11:19:11.529512Z",
     "start_time": "2019-11-17T11:19:11.496475Z"
    },
    "scrolled": true
   },
   "outputs": [
    {
     "data": {
      "text/plain": [
       "{'features': {'id': ['passenger_id'],\n",
       "  'target': ['survived'],\n",
       "  'train': ['fare',\n",
       "   'sib_sp',\n",
       "   'parch',\n",
       "   'family_size',\n",
       "   'age_filled',\n",
       "   'age_cut_0',\n",
       "   'age_cut_1',\n",
       "   'age_cut_2',\n",
       "   'age_cut_3',\n",
       "   'age_cut_4',\n",
       "   'sex_int',\n",
       "   'pclass_target_encoding_mean',\n",
       "   'is_mr',\n",
       "   'is_miss',\n",
       "   'is_mrs',\n",
       "   'is_master'],\n",
       "  'categorical': []},\n",
       " 'model': {'name': 'xgboost',\n",
       "  'model_params': {'boosting_type': 'gbdt',\n",
       "   'objective': 'binary',\n",
       "   'metric': 'binary_logloss',\n",
       "   'learning_rate': 0.66,\n",
       "   'max_depth': 18,\n",
       "   'min_child_weight': 0,\n",
       "   'lambda_l1': 0.01,\n",
       "   'lambda_l2': 0.01,\n",
       "   'num_leaves': 170,\n",
       "   'min_child_samples': 80,\n",
       "   'feature_fraction': 0.7959426985802768,\n",
       "   'bagging_fraction': 0.6763063410560335,\n",
       "   'bagging_freq': 5,\n",
       "   'verbose': -1},\n",
       "  'train_params': {'num_boost_round': 350, 'verbose_eval': False}},\n",
       " 'dataset': {'train_table': 'train', 'test_table': 'test'},\n",
       " 'cv': {'n_splits': 5, 'random_state': 42}}"
      ]
     },
     "execution_count": 8,
     "metadata": {},
     "output_type": "execute_result"
    }
   ],
   "source": [
    "config[\"features\"][\"train\"]"
   ]
  },
  {
   "cell_type": "code",
   "execution_count": 4,
   "metadata": {
    "ExecuteTime": {
     "end_time": "2019-11-17T11:12:04.178424Z",
     "start_time": "2019-11-17T11:12:04.094180Z"
    }
   },
   "outputs": [],
   "source": [
    "from db import table_load\n",
    "train = table_load(\"train\")\n",
    "test = table_load(\"test\")"
   ]
  }
 ],
 "metadata": {
  "kernelspec": {
   "display_name": "Python 3",
   "language": "python",
   "name": "python3"
  },
  "language_info": {
   "codemirror_mode": {
    "name": "ipython",
    "version": 3
   },
   "file_extension": ".py",
   "mimetype": "text/x-python",
   "name": "python",
   "nbconvert_exporter": "python",
   "pygments_lexer": "ipython3",
   "version": "3.6.6"
  },
  "toc": {
   "base_numbering": 1,
   "nav_menu": {},
   "number_sections": true,
   "sideBar": true,
   "skip_h1_title": false,
   "title_cell": "Table of Contents",
   "title_sidebar": "Contents",
   "toc_cell": false,
   "toc_position": {},
   "toc_section_display": true,
   "toc_window_display": false
  },
  "varInspector": {
   "cols": {
    "lenName": 16,
    "lenType": 16,
    "lenVar": 40
   },
   "kernels_config": {
    "python": {
     "delete_cmd_postfix": "",
     "delete_cmd_prefix": "del ",
     "library": "var_list.py",
     "varRefreshCmd": "print(var_dic_list())"
    },
    "r": {
     "delete_cmd_postfix": ") ",
     "delete_cmd_prefix": "rm(",
     "library": "var_list.r",
     "varRefreshCmd": "cat(var_dic_list()) "
    }
   },
   "types_to_exclude": [
    "module",
    "function",
    "builtin_function_or_method",
    "instance",
    "_Feature"
   ],
   "window_display": false
  }
 },
 "nbformat": 4,
 "nbformat_minor": 2
}

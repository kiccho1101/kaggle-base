{
 "cells": [
  {
   "cell_type": "code",
   "execution_count": null,
   "metadata": {},
   "outputs": [],
   "source": []
  },
  {
   "cell_type": "code",
   "execution_count": 1,
   "metadata": {
    "ExecuteTime": {
     "end_time": "2019-11-10T09:59:56.160041Z",
     "start_time": "2019-11-10T09:59:56.137746Z"
    }
   },
   "outputs": [],
   "source": [
    "import os\n",
    "import sys\n",
    "\n",
    "# Init project path\n",
    "PROJECT_DIR = os.getcwd() + \"/../\"\n",
    "sys.path.insert(0, PROJECT_DIR)\n",
    "%load_ext autoreload\n",
    "%autoreload 2"
   ]
  },
  {
   "cell_type": "code",
   "execution_count": 2,
   "metadata": {
    "ExecuteTime": {
     "end_time": "2019-11-10T09:59:56.915629Z",
     "start_time": "2019-11-10T09:59:56.899468Z"
    }
   },
   "outputs": [],
   "source": [
    "import json\n",
    "\n",
    "config: dict = json.load(open(\"./../configs/lightgbm_0.json\"))"
   ]
  },
  {
   "cell_type": "code",
   "execution_count": 3,
   "metadata": {
    "ExecuteTime": {
     "end_time": "2019-11-10T09:59:58.089842Z",
     "start_time": "2019-11-10T09:59:57.707206Z"
    }
   },
   "outputs": [
    {
     "name": "stdout",
     "output_type": "stream",
     "text": [
      "[table load (train)] start\n",
      "[table load (train)] done in 0.0140 s\n",
      "\n",
      "[table load (test)] start\n",
      "[table load (test)] done in 0.0084 s\n",
      "\n"
     ]
    }
   ],
   "source": [
    "from db import table_load\n",
    "\n",
    "# Load data\n",
    "train = table_load(\n",
    "    table_name=config[\"dataset\"][\"train_table\"],\n",
    "    cols=config[\"features\"][\"id\"]\n",
    "    + config[\"features\"][\"target\"]\n",
    "    + config[\"features\"][\"train\"],\n",
    ")\n",
    "test = table_load(\n",
    "    table_name=config[\"dataset\"][\"test_table\"],\n",
    "    cols=config[\"features\"][\"id\"] + config[\"features\"][\"train\"],\n",
    ")"
   ]
  },
  {
   "cell_type": "code",
   "execution_count": 5,
   "metadata": {
    "ExecuteTime": {
     "end_time": "2019-11-10T10:01:01.623654Z",
     "start_time": "2019-11-10T10:01:00.141018Z"
    }
   },
   "outputs": [
    {
     "name": "stdout",
     "output_type": "stream",
     "text": [
      "[CV No.0] start\n",
      "Accuracy: 0.6703910614525139\n",
      "[CV No.0] done in 0.2513 s\n",
      "\n",
      "[CV No.1] start\n",
      "Accuracy: 0.6927374301675978\n",
      "[CV No.1] done in 0.2441 s\n",
      "\n",
      "[CV No.2] start\n",
      "Accuracy: 0.7191011235955056\n",
      "[CV No.2] done in 0.2380 s\n",
      "\n",
      "[CV No.3] start\n",
      "Accuracy: 0.6797752808988764\n",
      "[CV No.3] done in 0.2563 s\n",
      "\n",
      "[CV No.4] start\n",
      "Accuracy: 0.6271186440677966\n",
      "[CV No.4] done in 0.2555 s\n",
      "\n"
     ]
    }
   ],
   "source": [
    "from models import LightGBM, Model\n",
    "models: dict = {\"lightgbm\": LightGBM}\n",
    "model: Model = models[config[\"model\"][\"name\"]]()\n",
    "# Cross Validation\n",
    "cv_models, result = model.cross_validatoin(\n",
    "    n_splits=config[\"cv\"][\"n_splits\"],\n",
    "    random_state=config[\"cv\"][\"random_state\"],\n",
    "    train=train,\n",
    "    target_cols=config[\"features\"][\"target\"],\n",
    "    train_cols=config[\"features\"][\"train\"],\n",
    "    categorical_cols=config[\"features\"][\"categorical\"],\n",
    "    params=config[\"model\"],\n",
    ")"
   ]
  }
 ],
 "metadata": {
  "kernelspec": {
   "display_name": "Python 3",
   "language": "python",
   "name": "python3"
  },
  "language_info": {
   "codemirror_mode": {
    "name": "ipython",
    "version": 3
   },
   "file_extension": ".py",
   "mimetype": "text/x-python",
   "name": "python",
   "nbconvert_exporter": "python",
   "pygments_lexer": "ipython3",
   "version": "3.6.6"
  },
  "toc": {
   "base_numbering": 1,
   "nav_menu": {},
   "number_sections": true,
   "sideBar": true,
   "skip_h1_title": false,
   "title_cell": "Table of Contents",
   "title_sidebar": "Contents",
   "toc_cell": false,
   "toc_position": {},
   "toc_section_display": true,
   "toc_window_display": false
  },
  "varInspector": {
   "cols": {
    "lenName": 16,
    "lenType": 16,
    "lenVar": 40
   },
   "kernels_config": {
    "python": {
     "delete_cmd_postfix": "",
     "delete_cmd_prefix": "del ",
     "library": "var_list.py",
     "varRefreshCmd": "print(var_dic_list())"
    },
    "r": {
     "delete_cmd_postfix": ") ",
     "delete_cmd_prefix": "rm(",
     "library": "var_list.r",
     "varRefreshCmd": "cat(var_dic_list()) "
    }
   },
   "types_to_exclude": [
    "module",
    "function",
    "builtin_function_or_method",
    "instance",
    "_Feature"
   ],
   "window_display": false
  }
 },
 "nbformat": 4,
 "nbformat_minor": 2
}

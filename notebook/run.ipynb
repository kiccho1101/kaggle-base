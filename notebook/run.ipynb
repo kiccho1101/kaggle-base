{
 "cells": [
  {
   "cell_type": "code",
   "execution_count": null,
   "metadata": {},
   "outputs": [],
   "source": []
  },
  {
   "cell_type": "code",
   "execution_count": 2,
   "metadata": {
    "ExecuteTime": {
     "end_time": "2019-11-10T10:43:08.879653Z",
     "start_time": "2019-11-10T10:43:08.854869Z"
    }
   },
   "outputs": [],
   "source": [
    "import os\n",
    "import sys\n",
    "\n",
    "# Init project path\n",
    "PROJECT_DIR = os.getcwd() + \"/../\"\n",
    "sys.path.insert(0, PROJECT_DIR)\n",
    "%load_ext autoreload\n",
    "%autoreload 2"
   ]
  },
  {
   "cell_type": "code",
   "execution_count": 22,
   "metadata": {
    "ExecuteTime": {
     "end_time": "2019-11-10T11:07:54.977056Z",
     "start_time": "2019-11-10T11:07:54.916165Z"
    }
   },
   "outputs": [],
   "source": [
    "import json\n",
    "\n",
    "exp_name = \"lightgbm_0\"\n",
    "config: dict = json.load(open(\"./../configs/{}.json\".format(exp_name)))"
   ]
  },
  {
   "cell_type": "code",
   "execution_count": 23,
   "metadata": {
    "ExecuteTime": {
     "end_time": "2019-11-10T11:07:56.474926Z",
     "start_time": "2019-11-10T11:07:56.221147Z"
    }
   },
   "outputs": [
    {
     "name": "stdout",
     "output_type": "stream",
     "text": [
      "[table load (train)] start\n",
      "[table load (train)] done in 0.1789 s\n",
      "\n",
      "[table load (test)] start\n",
      "[table load (test)] done in 0.0105 s\n",
      "\n"
     ]
    }
   ],
   "source": [
    "from db import table_load\n",
    "\n",
    "# Load data\n",
    "train = table_load(\n",
    "    table_name=config[\"dataset\"][\"train_table\"],\n",
    "    cols=config[\"features\"][\"id\"]\n",
    "    + config[\"features\"][\"target\"]\n",
    "    + config[\"features\"][\"train\"],\n",
    ")\n",
    "test = table_load(\n",
    "    table_name=config[\"dataset\"][\"test_table\"],\n",
    "    cols=config[\"features\"][\"id\"] + config[\"features\"][\"train\"],\n",
    ")"
   ]
  },
  {
   "cell_type": "code",
   "execution_count": 24,
   "metadata": {
    "ExecuteTime": {
     "end_time": "2019-11-10T11:07:59.542918Z",
     "start_time": "2019-11-10T11:07:58.321195Z"
    }
   },
   "outputs": [
    {
     "name": "stdout",
     "output_type": "stream",
     "text": [
      "[CV No.0] start\n",
      "Accuracy: 0.6703910614525139\n",
      "[CV No.0] done in 0.2385 s\n",
      "\n",
      "[CV No.1] start\n",
      "Accuracy: 0.6927374301675978\n",
      "[CV No.1] done in 0.2196 s\n",
      "\n",
      "[CV No.2] start\n",
      "Accuracy: 0.7191011235955056\n",
      "[CV No.2] done in 0.2054 s\n",
      "\n",
      "[CV No.3] start\n",
      "Accuracy: 0.6797752808988764\n",
      "[CV No.3] done in 0.2143 s\n",
      "\n",
      "[CV No.4] start\n",
      "Accuracy: 0.6271186440677966\n",
      "[CV No.4] done in 0.2670 s\n",
      "\n"
     ]
    }
   ],
   "source": [
    "from models import LightGBM, Model\n",
    "\n",
    "models: dict = {\"lightgbm\": LightGBM}\n",
    "model: Model = models[config[\"model\"][\"name\"]]()\n",
    "\n",
    "# Cross Validation\n",
    "cv_models, result = model.cross_validatoin(\n",
    "    n_splits=config[\"cv\"][\"n_splits\"],\n",
    "    random_state=config[\"cv\"][\"random_state\"],\n",
    "    train=train,\n",
    "    target_cols=config[\"features\"][\"target\"],\n",
    "    train_cols=config[\"features\"][\"train\"],\n",
    "    categorical_cols=config[\"features\"][\"categorical\"],\n",
    "    params=config[\"model\"],\n",
    ")"
   ]
  },
  {
   "cell_type": "code",
   "execution_count": 25,
   "metadata": {
    "ExecuteTime": {
     "end_time": "2019-11-10T11:08:01.509520Z",
     "start_time": "2019-11-10T11:08:01.147283Z"
    }
   },
   "outputs": [],
   "source": [
    "from models import LightGBM, Model\n",
    "models: dict = {\"lightgbm\": LightGBM}\n",
    "model: Model = models[config[\"model\"][\"name\"]]()\n",
    "\n",
    "# Train and predict\n",
    "result_model, y_pred = model.train_and_predict(\n",
    "    train=train,\n",
    "    valid=test,\n",
    "    weight=None,\n",
    "    categorical_features=config[\"features\"][\"categorical\"],\n",
    "    target_cols=config[\"features\"][\"target\"],\n",
    "    train_cols=config[\"features\"][\"train\"],\n",
    "    params=config[\"model\"]\n",
    ")"
   ]
  },
  {
   "cell_type": "code",
   "execution_count": 26,
   "metadata": {
    "ExecuteTime": {
     "end_time": "2019-11-10T11:08:10.316650Z",
     "start_time": "2019-11-10T11:08:10.240404Z"
    }
   },
   "outputs": [
    {
     "name": "stdout",
     "output_type": "stream",
     "text": [
      "[Create submission file] start\n",
      "[Create submission file] done in 0.0073 s\n",
      "\n"
     ]
    }
   ],
   "source": [
    "from submit import create_submission_file\n",
    "\n",
    "# Create submission file\n",
    "create_submission_file(\n",
    "    PassengerId=test[config[\"features\"][\"id\"]].iloc[:, 0].tolist(),\n",
    "    Survived=(y_pred > 0.5).astype(int).tolist(),\n",
    "    exp_name=exp_name,\n",
    ")"
   ]
  }
 ],
 "metadata": {
  "kernelspec": {
   "display_name": "Python 3",
   "language": "python",
   "name": "python3"
  },
  "language_info": {
   "codemirror_mode": {
    "name": "ipython",
    "version": 3
   },
   "file_extension": ".py",
   "mimetype": "text/x-python",
   "name": "python",
   "nbconvert_exporter": "python",
   "pygments_lexer": "ipython3",
   "version": "3.6.6"
  },
  "toc": {
   "base_numbering": 1,
   "nav_menu": {},
   "number_sections": true,
   "sideBar": true,
   "skip_h1_title": false,
   "title_cell": "Table of Contents",
   "title_sidebar": "Contents",
   "toc_cell": false,
   "toc_position": {},
   "toc_section_display": true,
   "toc_window_display": false
  },
  "varInspector": {
   "cols": {
    "lenName": 16,
    "lenType": 16,
    "lenVar": 40
   },
   "kernels_config": {
    "python": {
     "delete_cmd_postfix": "",
     "delete_cmd_prefix": "del ",
     "library": "var_list.py",
     "varRefreshCmd": "print(var_dic_list())"
    },
    "r": {
     "delete_cmd_postfix": ") ",
     "delete_cmd_prefix": "rm(",
     "library": "var_list.r",
     "varRefreshCmd": "cat(var_dic_list()) "
    }
   },
   "types_to_exclude": [
    "module",
    "function",
    "builtin_function_or_method",
    "instance",
    "_Feature"
   ],
   "window_display": false
  }
 },
 "nbformat": 4,
 "nbformat_minor": 2
}

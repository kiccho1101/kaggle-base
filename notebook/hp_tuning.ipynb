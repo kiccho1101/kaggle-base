{
 "cells": [
  {
   "cell_type": "code",
   "execution_count": null,
   "metadata": {},
   "outputs": [],
   "source": []
  },
  {
   "cell_type": "code",
   "execution_count": 2,
   "metadata": {
    "ExecuteTime": {
     "end_time": "2019-11-12T10:41:27.148477Z",
     "start_time": "2019-11-12T10:41:27.119930Z"
    }
   },
   "outputs": [],
   "source": [
    "import os\n",
    "import sys\n",
    "\n",
    "# Init project path\n",
    "PROJECT_DIR = os.getcwd() + \"/../\"\n",
    "sys.path.insert(0, PROJECT_DIR)\n",
    "%load_ext autoreload\n",
    "%autoreload 2"
   ]
  },
  {
   "cell_type": "code",
   "execution_count": 4,
   "metadata": {
    "ExecuteTime": {
     "end_time": "2019-11-12T10:41:32.852148Z",
     "start_time": "2019-11-12T10:41:32.825140Z"
    }
   },
   "outputs": [],
   "source": [
    "import numpy as np\n",
    "import pandas as pd\n",
    "\n",
    "from db import table_load, table_write\n",
    "from models import LightGBM\n",
    "from utils import timer"
   ]
  },
  {
   "cell_type": "code",
   "execution_count": 13,
   "metadata": {
    "ExecuteTime": {
     "end_time": "2019-11-12T10:48:17.099862Z",
     "start_time": "2019-11-12T10:48:17.050421Z"
    }
   },
   "outputs": [
    {
     "name": "stdout",
     "output_type": "stream",
     "text": [
      "Config file Name:  lightgbm_0\n"
     ]
    }
   ],
   "source": [
    "if len(sys.argv) == 2:\n",
    "    config_file_name = sys.argv[1]\n",
    "else:\n",
    "    config_file_name = \"lightgbm_0\"\n",
    "\n",
    "print(\"Config file Name: \", config_file_name)\n",
    "\n",
    "config: dict = json.load(open(\"./../configs/{}.json\".format(config_file_name)))\n"
   ]
  },
  {
   "cell_type": "code",
   "execution_count": 11,
   "metadata": {
    "ExecuteTime": {
     "end_time": "2019-11-12T10:47:03.356794Z",
     "start_time": "2019-11-12T10:47:03.313808Z"
    }
   },
   "outputs": [],
   "source": [
    "import optuna\n",
    "import lightgbm as lgb\n",
    "import numpy as np\n",
    "import sklearn.metrics\n",
    "from sklearn.model_selection import train_test_split\n",
    "from db import table_load"
   ]
  },
  {
   "cell_type": "code",
   "execution_count": 20,
   "metadata": {
    "ExecuteTime": {
     "end_time": "2019-11-12T11:03:02.614783Z",
     "start_time": "2019-11-12T11:03:02.563344Z"
    }
   },
   "outputs": [],
   "source": [
    "def objective(trial):\n",
    "    train = table_load(table_name=config[\"dataset\"][\"train_table\"])[\n",
    "        config[\"features\"][\"train\"] + config[\"features\"][\"target\"]\n",
    "    ]\n",
    "    train_x, test_x, train_y, test_y = train_test_split(\n",
    "        train[config[\"features\"][\"train\"]],\n",
    "        train[config[\"features\"][\"target\"]].iloc[:, 0],\n",
    "        test_size=0.25,\n",
    "    )\n",
    "\n",
    "    dtrain = lgb.Dataset(train_x, label=train_y)\n",
    "\n",
    "    param = {\n",
    "        \"objective\": \"binary\",\n",
    "        \"metric\": \"binary_logloss\",\n",
    "        \"verbosity\": -1,\n",
    "        \"boosting_type\": \"gbdt\",\n",
    "        \"lambda_l1\": trial.suggest_loguniform(\"lambda_l1\", 1e-8, 10.0),\n",
    "        \"lambda_l2\": trial.suggest_loguniform(\"lambda_l2\", 1e-8, 10.0),\n",
    "        \"num_leaves\": trial.suggest_int(\"num_leaves\", 2, 256),\n",
    "        \"feature_fraction\": trial.suggest_uniform(\"feature_fraction\", 0.4, 1.0),\n",
    "        \"bagging_fraction\": trial.suggest_uniform(\"bagging_fraction\", 0.4, 1.0),\n",
    "        \"bagging_freq\": trial.suggest_int(\"bagging_freq\", 1, 7),\n",
    "        \"min_child_samples\": trial.suggest_int(\"min_child_samples\", 5, 100),\n",
    "    }\n",
    "\n",
    "    gbm = lgb.train(param, dtrain)\n",
    "    preds = gbm.predict(test_x)\n",
    "    pred_labels = np.rint(preds)\n",
    "    accuracy = sklearn.metrics.accuracy_score(test_y, pred_labels)\n",
    "    return accuracy"
   ]
  },
  {
   "cell_type": "code",
   "execution_count": 21,
   "metadata": {
    "ExecuteTime": {
     "end_time": "2019-11-12T11:03:43.107361Z",
     "start_time": "2019-11-12T11:03:02.804241Z"
    }
   },
   "outputs": [
    {
     "name": "stderr",
     "output_type": "stream",
     "text": [
      "[I 2019-11-12 11:03:03,087] Finished trial#0 resulted in value: 0.7937219730941704. Current best value is 0.7937219730941704 with parameters: {'lambda_l1': 0.00010649155432682113, 'lambda_l2': 1.1975420865465626e-06, 'num_leaves': 117, 'feature_fraction': 0.9061307389093418, 'bagging_fraction': 0.5715283842087624, 'bagging_freq': 3, 'min_child_samples': 95}.\n",
      "[I 2019-11-12 11:03:03,544] Finished trial#1 resulted in value: 0.7533632286995515. Current best value is 0.7937219730941704 with parameters: {'lambda_l1': 0.00010649155432682113, 'lambda_l2': 1.1975420865465626e-06, 'num_leaves': 117, 'feature_fraction': 0.9061307389093418, 'bagging_fraction': 0.5715283842087624, 'bagging_freq': 3, 'min_child_samples': 95}.\n",
      "[I 2019-11-12 11:03:03,735] Finished trial#2 resulted in value: 0.7623318385650224. Current best value is 0.7937219730941704 with parameters: {'lambda_l1': 0.00010649155432682113, 'lambda_l2': 1.1975420865465626e-06, 'num_leaves': 117, 'feature_fraction': 0.9061307389093418, 'bagging_fraction': 0.5715283842087624, 'bagging_freq': 3, 'min_child_samples': 95}.\n",
      "[I 2019-11-12 11:03:03,974] Finished trial#3 resulted in value: 0.7892376681614349. Current best value is 0.7937219730941704 with parameters: {'lambda_l1': 0.00010649155432682113, 'lambda_l2': 1.1975420865465626e-06, 'num_leaves': 117, 'feature_fraction': 0.9061307389093418, 'bagging_fraction': 0.5715283842087624, 'bagging_freq': 3, 'min_child_samples': 95}.\n",
      "[I 2019-11-12 11:03:04,261] Finished trial#4 resulted in value: 0.8475336322869955. Current best value is 0.8475336322869955 with parameters: {'lambda_l1': 7.460291757411026e-07, 'lambda_l2': 0.0023668407667650124, 'num_leaves': 68, 'feature_fraction': 0.47618762263748393, 'bagging_fraction': 0.6165562824891133, 'bagging_freq': 2, 'min_child_samples': 24}.\n",
      "[I 2019-11-12 11:03:04,487] Finished trial#5 resulted in value: 0.8116591928251121. Current best value is 0.8475336322869955 with parameters: {'lambda_l1': 7.460291757411026e-07, 'lambda_l2': 0.0023668407667650124, 'num_leaves': 68, 'feature_fraction': 0.47618762263748393, 'bagging_fraction': 0.6165562824891133, 'bagging_freq': 2, 'min_child_samples': 24}.\n",
      "[I 2019-11-12 11:03:04,733] Finished trial#6 resulted in value: 0.7219730941704036. Current best value is 0.8475336322869955 with parameters: {'lambda_l1': 7.460291757411026e-07, 'lambda_l2': 0.0023668407667650124, 'num_leaves': 68, 'feature_fraction': 0.47618762263748393, 'bagging_fraction': 0.6165562824891133, 'bagging_freq': 2, 'min_child_samples': 24}.\n",
      "[I 2019-11-12 11:03:04,988] Finished trial#7 resulted in value: 0.8565022421524664. Current best value is 0.8565022421524664 with parameters: {'lambda_l1': 4.6502492465820854e-07, 'lambda_l2': 1.2812953567753295e-07, 'num_leaves': 49, 'feature_fraction': 0.9987783987838754, 'bagging_fraction': 0.6182698300425622, 'bagging_freq': 1, 'min_child_samples': 37}.\n",
      "[I 2019-11-12 11:03:05,257] Finished trial#8 resulted in value: 0.7713004484304933. Current best value is 0.8565022421524664 with parameters: {'lambda_l1': 4.6502492465820854e-07, 'lambda_l2': 1.2812953567753295e-07, 'num_leaves': 49, 'feature_fraction': 0.9987783987838754, 'bagging_fraction': 0.6182698300425622, 'bagging_freq': 1, 'min_child_samples': 37}.\n",
      "[I 2019-11-12 11:03:05,468] Finished trial#9 resulted in value: 0.8295964125560538. Current best value is 0.8565022421524664 with parameters: {'lambda_l1': 4.6502492465820854e-07, 'lambda_l2': 1.2812953567753295e-07, 'num_leaves': 49, 'feature_fraction': 0.9987783987838754, 'bagging_fraction': 0.6182698300425622, 'bagging_freq': 1, 'min_child_samples': 37}.\n",
      "[I 2019-11-12 11:03:06,009] Finished trial#10 resulted in value: 0.7937219730941704. Current best value is 0.8565022421524664 with parameters: {'lambda_l1': 4.6502492465820854e-07, 'lambda_l2': 1.2812953567753295e-07, 'num_leaves': 49, 'feature_fraction': 0.9987783987838754, 'bagging_fraction': 0.6182698300425622, 'bagging_freq': 1, 'min_child_samples': 37}.\n",
      "[I 2019-11-12 11:03:06,252] Finished trial#11 resulted in value: 0.7847533632286996. Current best value is 0.8565022421524664 with parameters: {'lambda_l1': 4.6502492465820854e-07, 'lambda_l2': 1.2812953567753295e-07, 'num_leaves': 49, 'feature_fraction': 0.9987783987838754, 'bagging_fraction': 0.6182698300425622, 'bagging_freq': 1, 'min_child_samples': 37}.\n",
      "[I 2019-11-12 11:03:06,547] Finished trial#12 resulted in value: 0.7982062780269058. Current best value is 0.8565022421524664 with parameters: {'lambda_l1': 4.6502492465820854e-07, 'lambda_l2': 1.2812953567753295e-07, 'num_leaves': 49, 'feature_fraction': 0.9987783987838754, 'bagging_fraction': 0.6182698300425622, 'bagging_freq': 1, 'min_child_samples': 37}.\n",
      "[I 2019-11-12 11:03:06,795] Finished trial#13 resulted in value: 0.7757847533632287. Current best value is 0.8565022421524664 with parameters: {'lambda_l1': 4.6502492465820854e-07, 'lambda_l2': 1.2812953567753295e-07, 'num_leaves': 49, 'feature_fraction': 0.9987783987838754, 'bagging_fraction': 0.6182698300425622, 'bagging_freq': 1, 'min_child_samples': 37}.\n",
      "[I 2019-11-12 11:03:07,176] Finished trial#14 resulted in value: 0.8609865470852018. Current best value is 0.8609865470852018 with parameters: {'lambda_l1': 2.460993008963375e-06, 'lambda_l2': 0.002217296722509097, 'num_leaves': 101, 'feature_fraction': 0.6158405405198908, 'bagging_fraction': 0.49612790326753337, 'bagging_freq': 3, 'min_child_samples': 14}.\n",
      "[I 2019-11-12 11:03:07,615] Finished trial#15 resulted in value: 0.8161434977578476. Current best value is 0.8609865470852018 with parameters: {'lambda_l1': 2.460993008963375e-06, 'lambda_l2': 0.002217296722509097, 'num_leaves': 101, 'feature_fraction': 0.6158405405198908, 'bagging_fraction': 0.49612790326753337, 'bagging_freq': 3, 'min_child_samples': 14}.\n",
      "[I 2019-11-12 11:03:07,887] Finished trial#16 resulted in value: 0.8161434977578476. Current best value is 0.8609865470852018 with parameters: {'lambda_l1': 2.460993008963375e-06, 'lambda_l2': 0.002217296722509097, 'num_leaves': 101, 'feature_fraction': 0.6158405405198908, 'bagging_fraction': 0.49612790326753337, 'bagging_freq': 3, 'min_child_samples': 14}.\n",
      "[I 2019-11-12 11:03:08,162] Finished trial#17 resulted in value: 0.7802690582959642. Current best value is 0.8609865470852018 with parameters: {'lambda_l1': 2.460993008963375e-06, 'lambda_l2': 0.002217296722509097, 'num_leaves': 101, 'feature_fraction': 0.6158405405198908, 'bagging_fraction': 0.49612790326753337, 'bagging_freq': 3, 'min_child_samples': 14}.\n",
      "[I 2019-11-12 11:03:08,635] Finished trial#18 resulted in value: 0.7892376681614349. Current best value is 0.8609865470852018 with parameters: {'lambda_l1': 2.460993008963375e-06, 'lambda_l2': 0.002217296722509097, 'num_leaves': 101, 'feature_fraction': 0.6158405405198908, 'bagging_fraction': 0.49612790326753337, 'bagging_freq': 3, 'min_child_samples': 14}.\n",
      "[I 2019-11-12 11:03:08,897] Finished trial#19 resulted in value: 0.7757847533632287. Current best value is 0.8609865470852018 with parameters: {'lambda_l1': 2.460993008963375e-06, 'lambda_l2': 0.002217296722509097, 'num_leaves': 101, 'feature_fraction': 0.6158405405198908, 'bagging_fraction': 0.49612790326753337, 'bagging_freq': 3, 'min_child_samples': 14}.\n",
      "[I 2019-11-12 11:03:09,263] Finished trial#20 resulted in value: 0.8251121076233184. Current best value is 0.8609865470852018 with parameters: {'lambda_l1': 2.460993008963375e-06, 'lambda_l2': 0.002217296722509097, 'num_leaves': 101, 'feature_fraction': 0.6158405405198908, 'bagging_fraction': 0.49612790326753337, 'bagging_freq': 3, 'min_child_samples': 14}.\n",
      "[I 2019-11-12 11:03:09,624] Finished trial#21 resulted in value: 0.7713004484304933. Current best value is 0.8609865470852018 with parameters: {'lambda_l1': 2.460993008963375e-06, 'lambda_l2': 0.002217296722509097, 'num_leaves': 101, 'feature_fraction': 0.6158405405198908, 'bagging_fraction': 0.49612790326753337, 'bagging_freq': 3, 'min_child_samples': 14}.\n"
     ]
    },
    {
     "name": "stderr",
     "output_type": "stream",
     "text": [
      "[I 2019-11-12 11:03:09,947] Finished trial#22 resulted in value: 0.8071748878923767. Current best value is 0.8609865470852018 with parameters: {'lambda_l1': 2.460993008963375e-06, 'lambda_l2': 0.002217296722509097, 'num_leaves': 101, 'feature_fraction': 0.6158405405198908, 'bagging_fraction': 0.49612790326753337, 'bagging_freq': 3, 'min_child_samples': 14}.\n",
      "[I 2019-11-12 11:03:10,215] Finished trial#23 resulted in value: 0.7982062780269058. Current best value is 0.8609865470852018 with parameters: {'lambda_l1': 2.460993008963375e-06, 'lambda_l2': 0.002217296722509097, 'num_leaves': 101, 'feature_fraction': 0.6158405405198908, 'bagging_fraction': 0.49612790326753337, 'bagging_freq': 3, 'min_child_samples': 14}.\n",
      "[I 2019-11-12 11:03:10,734] Finished trial#24 resulted in value: 0.820627802690583. Current best value is 0.8609865470852018 with parameters: {'lambda_l1': 2.460993008963375e-06, 'lambda_l2': 0.002217296722509097, 'num_leaves': 101, 'feature_fraction': 0.6158405405198908, 'bagging_fraction': 0.49612790326753337, 'bagging_freq': 3, 'min_child_samples': 14}.\n",
      "[I 2019-11-12 11:03:11,131] Finished trial#25 resulted in value: 0.8251121076233184. Current best value is 0.8609865470852018 with parameters: {'lambda_l1': 2.460993008963375e-06, 'lambda_l2': 0.002217296722509097, 'num_leaves': 101, 'feature_fraction': 0.6158405405198908, 'bagging_fraction': 0.49612790326753337, 'bagging_freq': 3, 'min_child_samples': 14}.\n",
      "[I 2019-11-12 11:03:11,403] Finished trial#26 resulted in value: 0.7937219730941704. Current best value is 0.8609865470852018 with parameters: {'lambda_l1': 2.460993008963375e-06, 'lambda_l2': 0.002217296722509097, 'num_leaves': 101, 'feature_fraction': 0.6158405405198908, 'bagging_fraction': 0.49612790326753337, 'bagging_freq': 3, 'min_child_samples': 14}.\n",
      "[I 2019-11-12 11:03:11,755] Finished trial#27 resulted in value: 0.7757847533632287. Current best value is 0.8609865470852018 with parameters: {'lambda_l1': 2.460993008963375e-06, 'lambda_l2': 0.002217296722509097, 'num_leaves': 101, 'feature_fraction': 0.6158405405198908, 'bagging_fraction': 0.49612790326753337, 'bagging_freq': 3, 'min_child_samples': 14}.\n",
      "[I 2019-11-12 11:03:12,101] Finished trial#28 resulted in value: 0.7399103139013453. Current best value is 0.8609865470852018 with parameters: {'lambda_l1': 2.460993008963375e-06, 'lambda_l2': 0.002217296722509097, 'num_leaves': 101, 'feature_fraction': 0.6158405405198908, 'bagging_fraction': 0.49612790326753337, 'bagging_freq': 3, 'min_child_samples': 14}.\n",
      "[I 2019-11-12 11:03:12,366] Finished trial#29 resulted in value: 0.8161434977578476. Current best value is 0.8609865470852018 with parameters: {'lambda_l1': 2.460993008963375e-06, 'lambda_l2': 0.002217296722509097, 'num_leaves': 101, 'feature_fraction': 0.6158405405198908, 'bagging_fraction': 0.49612790326753337, 'bagging_freq': 3, 'min_child_samples': 14}.\n",
      "[I 2019-11-12 11:03:12,809] Finished trial#30 resulted in value: 0.7847533632286996. Current best value is 0.8609865470852018 with parameters: {'lambda_l1': 2.460993008963375e-06, 'lambda_l2': 0.002217296722509097, 'num_leaves': 101, 'feature_fraction': 0.6158405405198908, 'bagging_fraction': 0.49612790326753337, 'bagging_freq': 3, 'min_child_samples': 14}.\n",
      "[I 2019-11-12 11:03:13,056] Finished trial#31 resulted in value: 0.7488789237668162. Current best value is 0.8609865470852018 with parameters: {'lambda_l1': 2.460993008963375e-06, 'lambda_l2': 0.002217296722509097, 'num_leaves': 101, 'feature_fraction': 0.6158405405198908, 'bagging_fraction': 0.49612790326753337, 'bagging_freq': 3, 'min_child_samples': 14}.\n",
      "[I 2019-11-12 11:03:13,333] Finished trial#32 resulted in value: 0.7802690582959642. Current best value is 0.8609865470852018 with parameters: {'lambda_l1': 2.460993008963375e-06, 'lambda_l2': 0.002217296722509097, 'num_leaves': 101, 'feature_fraction': 0.6158405405198908, 'bagging_fraction': 0.49612790326753337, 'bagging_freq': 3, 'min_child_samples': 14}.\n",
      "[I 2019-11-12 11:03:13,813] Finished trial#33 resulted in value: 0.7847533632286996. Current best value is 0.8609865470852018 with parameters: {'lambda_l1': 2.460993008963375e-06, 'lambda_l2': 0.002217296722509097, 'num_leaves': 101, 'feature_fraction': 0.6158405405198908, 'bagging_fraction': 0.49612790326753337, 'bagging_freq': 3, 'min_child_samples': 14}.\n",
      "[I 2019-11-12 11:03:14,060] Finished trial#34 resulted in value: 0.820627802690583. Current best value is 0.8609865470852018 with parameters: {'lambda_l1': 2.460993008963375e-06, 'lambda_l2': 0.002217296722509097, 'num_leaves': 101, 'feature_fraction': 0.6158405405198908, 'bagging_fraction': 0.49612790326753337, 'bagging_freq': 3, 'min_child_samples': 14}.\n",
      "[I 2019-11-12 11:03:14,369] Finished trial#35 resulted in value: 0.7713004484304933. Current best value is 0.8609865470852018 with parameters: {'lambda_l1': 2.460993008963375e-06, 'lambda_l2': 0.002217296722509097, 'num_leaves': 101, 'feature_fraction': 0.6158405405198908, 'bagging_fraction': 0.49612790326753337, 'bagging_freq': 3, 'min_child_samples': 14}.\n",
      "[I 2019-11-12 11:03:14,637] Finished trial#36 resulted in value: 0.7892376681614349. Current best value is 0.8609865470852018 with parameters: {'lambda_l1': 2.460993008963375e-06, 'lambda_l2': 0.002217296722509097, 'num_leaves': 101, 'feature_fraction': 0.6158405405198908, 'bagging_fraction': 0.49612790326753337, 'bagging_freq': 3, 'min_child_samples': 14}.\n",
      "[I 2019-11-12 11:03:14,892] Finished trial#37 resulted in value: 0.7713004484304933. Current best value is 0.8609865470852018 with parameters: {'lambda_l1': 2.460993008963375e-06, 'lambda_l2': 0.002217296722509097, 'num_leaves': 101, 'feature_fraction': 0.6158405405198908, 'bagging_fraction': 0.49612790326753337, 'bagging_freq': 3, 'min_child_samples': 14}.\n",
      "[I 2019-11-12 11:03:15,191] Finished trial#38 resulted in value: 0.8116591928251121. Current best value is 0.8609865470852018 with parameters: {'lambda_l1': 2.460993008963375e-06, 'lambda_l2': 0.002217296722509097, 'num_leaves': 101, 'feature_fraction': 0.6158405405198908, 'bagging_fraction': 0.49612790326753337, 'bagging_freq': 3, 'min_child_samples': 14}.\n",
      "[I 2019-11-12 11:03:15,446] Finished trial#39 resulted in value: 0.8251121076233184. Current best value is 0.8609865470852018 with parameters: {'lambda_l1': 2.460993008963375e-06, 'lambda_l2': 0.002217296722509097, 'num_leaves': 101, 'feature_fraction': 0.6158405405198908, 'bagging_fraction': 0.49612790326753337, 'bagging_freq': 3, 'min_child_samples': 14}.\n",
      "[I 2019-11-12 11:03:15,748] Finished trial#40 resulted in value: 0.8026905829596412. Current best value is 0.8609865470852018 with parameters: {'lambda_l1': 2.460993008963375e-06, 'lambda_l2': 0.002217296722509097, 'num_leaves': 101, 'feature_fraction': 0.6158405405198908, 'bagging_fraction': 0.49612790326753337, 'bagging_freq': 3, 'min_child_samples': 14}.\n",
      "[I 2019-11-12 11:03:16,137] Finished trial#41 resulted in value: 0.7937219730941704. Current best value is 0.8609865470852018 with parameters: {'lambda_l1': 2.460993008963375e-06, 'lambda_l2': 0.002217296722509097, 'num_leaves': 101, 'feature_fraction': 0.6158405405198908, 'bagging_fraction': 0.49612790326753337, 'bagging_freq': 3, 'min_child_samples': 14}.\n",
      "[I 2019-11-12 11:03:16,578] Finished trial#42 resulted in value: 0.8161434977578476. Current best value is 0.8609865470852018 with parameters: {'lambda_l1': 2.460993008963375e-06, 'lambda_l2': 0.002217296722509097, 'num_leaves': 101, 'feature_fraction': 0.6158405405198908, 'bagging_fraction': 0.49612790326753337, 'bagging_freq': 3, 'min_child_samples': 14}.\n",
      "[I 2019-11-12 11:03:16,949] Finished trial#43 resulted in value: 0.8116591928251121. Current best value is 0.8609865470852018 with parameters: {'lambda_l1': 2.460993008963375e-06, 'lambda_l2': 0.002217296722509097, 'num_leaves': 101, 'feature_fraction': 0.6158405405198908, 'bagging_fraction': 0.49612790326753337, 'bagging_freq': 3, 'min_child_samples': 14}.\n"
     ]
    },
    {
     "name": "stderr",
     "output_type": "stream",
     "text": [
      "[I 2019-11-12 11:03:17,226] Finished trial#44 resulted in value: 0.7757847533632287. Current best value is 0.8609865470852018 with parameters: {'lambda_l1': 2.460993008963375e-06, 'lambda_l2': 0.002217296722509097, 'num_leaves': 101, 'feature_fraction': 0.6158405405198908, 'bagging_fraction': 0.49612790326753337, 'bagging_freq': 3, 'min_child_samples': 14}.\n",
      "[I 2019-11-12 11:03:17,641] Finished trial#45 resulted in value: 0.8295964125560538. Current best value is 0.8609865470852018 with parameters: {'lambda_l1': 2.460993008963375e-06, 'lambda_l2': 0.002217296722509097, 'num_leaves': 101, 'feature_fraction': 0.6158405405198908, 'bagging_fraction': 0.49612790326753337, 'bagging_freq': 3, 'min_child_samples': 14}.\n",
      "[I 2019-11-12 11:03:17,985] Finished trial#46 resulted in value: 0.7802690582959642. Current best value is 0.8609865470852018 with parameters: {'lambda_l1': 2.460993008963375e-06, 'lambda_l2': 0.002217296722509097, 'num_leaves': 101, 'feature_fraction': 0.6158405405198908, 'bagging_fraction': 0.49612790326753337, 'bagging_freq': 3, 'min_child_samples': 14}.\n",
      "[I 2019-11-12 11:03:18,485] Finished trial#47 resulted in value: 0.7937219730941704. Current best value is 0.8609865470852018 with parameters: {'lambda_l1': 2.460993008963375e-06, 'lambda_l2': 0.002217296722509097, 'num_leaves': 101, 'feature_fraction': 0.6158405405198908, 'bagging_fraction': 0.49612790326753337, 'bagging_freq': 3, 'min_child_samples': 14}.\n",
      "[I 2019-11-12 11:03:18,867] Finished trial#48 resulted in value: 0.8071748878923767. Current best value is 0.8609865470852018 with parameters: {'lambda_l1': 2.460993008963375e-06, 'lambda_l2': 0.002217296722509097, 'num_leaves': 101, 'feature_fraction': 0.6158405405198908, 'bagging_fraction': 0.49612790326753337, 'bagging_freq': 3, 'min_child_samples': 14}.\n",
      "[I 2019-11-12 11:03:19,196] Finished trial#49 resulted in value: 0.7937219730941704. Current best value is 0.8609865470852018 with parameters: {'lambda_l1': 2.460993008963375e-06, 'lambda_l2': 0.002217296722509097, 'num_leaves': 101, 'feature_fraction': 0.6158405405198908, 'bagging_fraction': 0.49612790326753337, 'bagging_freq': 3, 'min_child_samples': 14}.\n",
      "[I 2019-11-12 11:03:19,495] Finished trial#50 resulted in value: 0.8071748878923767. Current best value is 0.8609865470852018 with parameters: {'lambda_l1': 2.460993008963375e-06, 'lambda_l2': 0.002217296722509097, 'num_leaves': 101, 'feature_fraction': 0.6158405405198908, 'bagging_fraction': 0.49612790326753337, 'bagging_freq': 3, 'min_child_samples': 14}.\n",
      "[I 2019-11-12 11:03:19,976] Finished trial#51 resulted in value: 0.820627802690583. Current best value is 0.8609865470852018 with parameters: {'lambda_l1': 2.460993008963375e-06, 'lambda_l2': 0.002217296722509097, 'num_leaves': 101, 'feature_fraction': 0.6158405405198908, 'bagging_fraction': 0.49612790326753337, 'bagging_freq': 3, 'min_child_samples': 14}.\n",
      "[I 2019-11-12 11:03:20,432] Finished trial#52 resulted in value: 0.8071748878923767. Current best value is 0.8609865470852018 with parameters: {'lambda_l1': 2.460993008963375e-06, 'lambda_l2': 0.002217296722509097, 'num_leaves': 101, 'feature_fraction': 0.6158405405198908, 'bagging_fraction': 0.49612790326753337, 'bagging_freq': 3, 'min_child_samples': 14}.\n",
      "[I 2019-11-12 11:03:20,854] Finished trial#53 resulted in value: 0.7847533632286996. Current best value is 0.8609865470852018 with parameters: {'lambda_l1': 2.460993008963375e-06, 'lambda_l2': 0.002217296722509097, 'num_leaves': 101, 'feature_fraction': 0.6158405405198908, 'bagging_fraction': 0.49612790326753337, 'bagging_freq': 3, 'min_child_samples': 14}.\n",
      "[I 2019-11-12 11:03:21,300] Finished trial#54 resulted in value: 0.8251121076233184. Current best value is 0.8609865470852018 with parameters: {'lambda_l1': 2.460993008963375e-06, 'lambda_l2': 0.002217296722509097, 'num_leaves': 101, 'feature_fraction': 0.6158405405198908, 'bagging_fraction': 0.49612790326753337, 'bagging_freq': 3, 'min_child_samples': 14}.\n",
      "[I 2019-11-12 11:03:21,671] Finished trial#55 resulted in value: 0.7757847533632287. Current best value is 0.8609865470852018 with parameters: {'lambda_l1': 2.460993008963375e-06, 'lambda_l2': 0.002217296722509097, 'num_leaves': 101, 'feature_fraction': 0.6158405405198908, 'bagging_fraction': 0.49612790326753337, 'bagging_freq': 3, 'min_child_samples': 14}.\n",
      "[I 2019-11-12 11:03:22,273] Finished trial#56 resulted in value: 0.8026905829596412. Current best value is 0.8609865470852018 with parameters: {'lambda_l1': 2.460993008963375e-06, 'lambda_l2': 0.002217296722509097, 'num_leaves': 101, 'feature_fraction': 0.6158405405198908, 'bagging_fraction': 0.49612790326753337, 'bagging_freq': 3, 'min_child_samples': 14}.\n",
      "[I 2019-11-12 11:03:22,814] Finished trial#57 resulted in value: 0.7533632286995515. Current best value is 0.8609865470852018 with parameters: {'lambda_l1': 2.460993008963375e-06, 'lambda_l2': 0.002217296722509097, 'num_leaves': 101, 'feature_fraction': 0.6158405405198908, 'bagging_fraction': 0.49612790326753337, 'bagging_freq': 3, 'min_child_samples': 14}.\n",
      "[I 2019-11-12 11:03:23,281] Finished trial#58 resulted in value: 0.7757847533632287. Current best value is 0.8609865470852018 with parameters: {'lambda_l1': 2.460993008963375e-06, 'lambda_l2': 0.002217296722509097, 'num_leaves': 101, 'feature_fraction': 0.6158405405198908, 'bagging_fraction': 0.49612790326753337, 'bagging_freq': 3, 'min_child_samples': 14}.\n",
      "[I 2019-11-12 11:03:23,580] Finished trial#59 resulted in value: 0.820627802690583. Current best value is 0.8609865470852018 with parameters: {'lambda_l1': 2.460993008963375e-06, 'lambda_l2': 0.002217296722509097, 'num_leaves': 101, 'feature_fraction': 0.6158405405198908, 'bagging_fraction': 0.49612790326753337, 'bagging_freq': 3, 'min_child_samples': 14}.\n",
      "[I 2019-11-12 11:03:23,967] Finished trial#60 resulted in value: 0.7623318385650224. Current best value is 0.8609865470852018 with parameters: {'lambda_l1': 2.460993008963375e-06, 'lambda_l2': 0.002217296722509097, 'num_leaves': 101, 'feature_fraction': 0.6158405405198908, 'bagging_fraction': 0.49612790326753337, 'bagging_freq': 3, 'min_child_samples': 14}.\n",
      "[I 2019-11-12 11:03:24,551] Finished trial#61 resulted in value: 0.7937219730941704. Current best value is 0.8609865470852018 with parameters: {'lambda_l1': 2.460993008963375e-06, 'lambda_l2': 0.002217296722509097, 'num_leaves': 101, 'feature_fraction': 0.6158405405198908, 'bagging_fraction': 0.49612790326753337, 'bagging_freq': 3, 'min_child_samples': 14}.\n",
      "[I 2019-11-12 11:03:24,883] Finished trial#62 resulted in value: 0.7533632286995515. Current best value is 0.8609865470852018 with parameters: {'lambda_l1': 2.460993008963375e-06, 'lambda_l2': 0.002217296722509097, 'num_leaves': 101, 'feature_fraction': 0.6158405405198908, 'bagging_fraction': 0.49612790326753337, 'bagging_freq': 3, 'min_child_samples': 14}.\n",
      "[I 2019-11-12 11:03:25,279] Finished trial#63 resulted in value: 0.7802690582959642. Current best value is 0.8609865470852018 with parameters: {'lambda_l1': 2.460993008963375e-06, 'lambda_l2': 0.002217296722509097, 'num_leaves': 101, 'feature_fraction': 0.6158405405198908, 'bagging_fraction': 0.49612790326753337, 'bagging_freq': 3, 'min_child_samples': 14}.\n",
      "[I 2019-11-12 11:03:25,771] Finished trial#64 resulted in value: 0.7937219730941704. Current best value is 0.8609865470852018 with parameters: {'lambda_l1': 2.460993008963375e-06, 'lambda_l2': 0.002217296722509097, 'num_leaves': 101, 'feature_fraction': 0.6158405405198908, 'bagging_fraction': 0.49612790326753337, 'bagging_freq': 3, 'min_child_samples': 14}.\n",
      "[I 2019-11-12 11:03:26,125] Finished trial#65 resulted in value: 0.8071748878923767. Current best value is 0.8609865470852018 with parameters: {'lambda_l1': 2.460993008963375e-06, 'lambda_l2': 0.002217296722509097, 'num_leaves': 101, 'feature_fraction': 0.6158405405198908, 'bagging_fraction': 0.49612790326753337, 'bagging_freq': 3, 'min_child_samples': 14}.\n"
     ]
    },
    {
     "name": "stderr",
     "output_type": "stream",
     "text": [
      "[I 2019-11-12 11:03:26,610] Finished trial#66 resulted in value: 0.757847533632287. Current best value is 0.8609865470852018 with parameters: {'lambda_l1': 2.460993008963375e-06, 'lambda_l2': 0.002217296722509097, 'num_leaves': 101, 'feature_fraction': 0.6158405405198908, 'bagging_fraction': 0.49612790326753337, 'bagging_freq': 3, 'min_child_samples': 14}.\n",
      "[I 2019-11-12 11:03:26,923] Finished trial#67 resulted in value: 0.7892376681614349. Current best value is 0.8609865470852018 with parameters: {'lambda_l1': 2.460993008963375e-06, 'lambda_l2': 0.002217296722509097, 'num_leaves': 101, 'feature_fraction': 0.6158405405198908, 'bagging_fraction': 0.49612790326753337, 'bagging_freq': 3, 'min_child_samples': 14}.\n",
      "[I 2019-11-12 11:03:27,270] Finished trial#68 resulted in value: 0.8116591928251121. Current best value is 0.8609865470852018 with parameters: {'lambda_l1': 2.460993008963375e-06, 'lambda_l2': 0.002217296722509097, 'num_leaves': 101, 'feature_fraction': 0.6158405405198908, 'bagging_fraction': 0.49612790326753337, 'bagging_freq': 3, 'min_child_samples': 14}.\n",
      "[I 2019-11-12 11:03:27,703] Finished trial#69 resulted in value: 0.8161434977578476. Current best value is 0.8609865470852018 with parameters: {'lambda_l1': 2.460993008963375e-06, 'lambda_l2': 0.002217296722509097, 'num_leaves': 101, 'feature_fraction': 0.6158405405198908, 'bagging_fraction': 0.49612790326753337, 'bagging_freq': 3, 'min_child_samples': 14}.\n",
      "[I 2019-11-12 11:03:28,450] Finished trial#70 resulted in value: 0.7982062780269058. Current best value is 0.8609865470852018 with parameters: {'lambda_l1': 2.460993008963375e-06, 'lambda_l2': 0.002217296722509097, 'num_leaves': 101, 'feature_fraction': 0.6158405405198908, 'bagging_fraction': 0.49612790326753337, 'bagging_freq': 3, 'min_child_samples': 14}.\n",
      "[I 2019-11-12 11:03:28,925] Finished trial#71 resulted in value: 0.8340807174887892. Current best value is 0.8609865470852018 with parameters: {'lambda_l1': 2.460993008963375e-06, 'lambda_l2': 0.002217296722509097, 'num_leaves': 101, 'feature_fraction': 0.6158405405198908, 'bagging_fraction': 0.49612790326753337, 'bagging_freq': 3, 'min_child_samples': 14}.\n",
      "[I 2019-11-12 11:03:29,414] Finished trial#72 resulted in value: 0.7802690582959642. Current best value is 0.8609865470852018 with parameters: {'lambda_l1': 2.460993008963375e-06, 'lambda_l2': 0.002217296722509097, 'num_leaves': 101, 'feature_fraction': 0.6158405405198908, 'bagging_fraction': 0.49612790326753337, 'bagging_freq': 3, 'min_child_samples': 14}.\n",
      "[I 2019-11-12 11:03:29,876] Finished trial#73 resulted in value: 0.7354260089686099. Current best value is 0.8609865470852018 with parameters: {'lambda_l1': 2.460993008963375e-06, 'lambda_l2': 0.002217296722509097, 'num_leaves': 101, 'feature_fraction': 0.6158405405198908, 'bagging_fraction': 0.49612790326753337, 'bagging_freq': 3, 'min_child_samples': 14}.\n",
      "[I 2019-11-12 11:03:30,319] Finished trial#74 resulted in value: 0.7713004484304933. Current best value is 0.8609865470852018 with parameters: {'lambda_l1': 2.460993008963375e-06, 'lambda_l2': 0.002217296722509097, 'num_leaves': 101, 'feature_fraction': 0.6158405405198908, 'bagging_fraction': 0.49612790326753337, 'bagging_freq': 3, 'min_child_samples': 14}.\n",
      "[I 2019-11-12 11:03:30,716] Finished trial#75 resulted in value: 0.8026905829596412. Current best value is 0.8609865470852018 with parameters: {'lambda_l1': 2.460993008963375e-06, 'lambda_l2': 0.002217296722509097, 'num_leaves': 101, 'feature_fraction': 0.6158405405198908, 'bagging_fraction': 0.49612790326753337, 'bagging_freq': 3, 'min_child_samples': 14}.\n",
      "[I 2019-11-12 11:03:31,139] Finished trial#76 resulted in value: 0.8116591928251121. Current best value is 0.8609865470852018 with parameters: {'lambda_l1': 2.460993008963375e-06, 'lambda_l2': 0.002217296722509097, 'num_leaves': 101, 'feature_fraction': 0.6158405405198908, 'bagging_fraction': 0.49612790326753337, 'bagging_freq': 3, 'min_child_samples': 14}.\n",
      "[I 2019-11-12 11:03:31,677] Finished trial#77 resulted in value: 0.7757847533632287. Current best value is 0.8609865470852018 with parameters: {'lambda_l1': 2.460993008963375e-06, 'lambda_l2': 0.002217296722509097, 'num_leaves': 101, 'feature_fraction': 0.6158405405198908, 'bagging_fraction': 0.49612790326753337, 'bagging_freq': 3, 'min_child_samples': 14}.\n",
      "[I 2019-11-12 11:03:32,439] Finished trial#78 resulted in value: 0.7982062780269058. Current best value is 0.8609865470852018 with parameters: {'lambda_l1': 2.460993008963375e-06, 'lambda_l2': 0.002217296722509097, 'num_leaves': 101, 'feature_fraction': 0.6158405405198908, 'bagging_fraction': 0.49612790326753337, 'bagging_freq': 3, 'min_child_samples': 14}.\n",
      "[I 2019-11-12 11:03:32,806] Finished trial#79 resulted in value: 0.7757847533632287. Current best value is 0.8609865470852018 with parameters: {'lambda_l1': 2.460993008963375e-06, 'lambda_l2': 0.002217296722509097, 'num_leaves': 101, 'feature_fraction': 0.6158405405198908, 'bagging_fraction': 0.49612790326753337, 'bagging_freq': 3, 'min_child_samples': 14}.\n",
      "[I 2019-11-12 11:03:33,234] Finished trial#80 resulted in value: 0.7668161434977578. Current best value is 0.8609865470852018 with parameters: {'lambda_l1': 2.460993008963375e-06, 'lambda_l2': 0.002217296722509097, 'num_leaves': 101, 'feature_fraction': 0.6158405405198908, 'bagging_fraction': 0.49612790326753337, 'bagging_freq': 3, 'min_child_samples': 14}.\n",
      "[I 2019-11-12 11:03:33,767] Finished trial#81 resulted in value: 0.8116591928251121. Current best value is 0.8609865470852018 with parameters: {'lambda_l1': 2.460993008963375e-06, 'lambda_l2': 0.002217296722509097, 'num_leaves': 101, 'feature_fraction': 0.6158405405198908, 'bagging_fraction': 0.49612790326753337, 'bagging_freq': 3, 'min_child_samples': 14}.\n",
      "[I 2019-11-12 11:03:34,248] Finished trial#82 resulted in value: 0.7533632286995515. Current best value is 0.8609865470852018 with parameters: {'lambda_l1': 2.460993008963375e-06, 'lambda_l2': 0.002217296722509097, 'num_leaves': 101, 'feature_fraction': 0.6158405405198908, 'bagging_fraction': 0.49612790326753337, 'bagging_freq': 3, 'min_child_samples': 14}.\n",
      "[I 2019-11-12 11:03:34,822] Finished trial#83 resulted in value: 0.8026905829596412. Current best value is 0.8609865470852018 with parameters: {'lambda_l1': 2.460993008963375e-06, 'lambda_l2': 0.002217296722509097, 'num_leaves': 101, 'feature_fraction': 0.6158405405198908, 'bagging_fraction': 0.49612790326753337, 'bagging_freq': 3, 'min_child_samples': 14}.\n",
      "[I 2019-11-12 11:03:35,292] Finished trial#84 resulted in value: 0.7309417040358744. Current best value is 0.8609865470852018 with parameters: {'lambda_l1': 2.460993008963375e-06, 'lambda_l2': 0.002217296722509097, 'num_leaves': 101, 'feature_fraction': 0.6158405405198908, 'bagging_fraction': 0.49612790326753337, 'bagging_freq': 3, 'min_child_samples': 14}.\n",
      "[I 2019-11-12 11:03:35,927] Finished trial#85 resulted in value: 0.7757847533632287. Current best value is 0.8609865470852018 with parameters: {'lambda_l1': 2.460993008963375e-06, 'lambda_l2': 0.002217296722509097, 'num_leaves': 101, 'feature_fraction': 0.6158405405198908, 'bagging_fraction': 0.49612790326753337, 'bagging_freq': 3, 'min_child_samples': 14}.\n",
      "[I 2019-11-12 11:03:36,276] Finished trial#86 resulted in value: 0.7713004484304933. Current best value is 0.8609865470852018 with parameters: {'lambda_l1': 2.460993008963375e-06, 'lambda_l2': 0.002217296722509097, 'num_leaves': 101, 'feature_fraction': 0.6158405405198908, 'bagging_fraction': 0.49612790326753337, 'bagging_freq': 3, 'min_child_samples': 14}.\n",
      "[I 2019-11-12 11:03:36,694] Finished trial#87 resulted in value: 0.7668161434977578. Current best value is 0.8609865470852018 with parameters: {'lambda_l1': 2.460993008963375e-06, 'lambda_l2': 0.002217296722509097, 'num_leaves': 101, 'feature_fraction': 0.6158405405198908, 'bagging_fraction': 0.49612790326753337, 'bagging_freq': 3, 'min_child_samples': 14}.\n"
     ]
    },
    {
     "name": "stderr",
     "output_type": "stream",
     "text": [
      "[I 2019-11-12 11:03:37,227] Finished trial#88 resulted in value: 0.7757847533632287. Current best value is 0.8609865470852018 with parameters: {'lambda_l1': 2.460993008963375e-06, 'lambda_l2': 0.002217296722509097, 'num_leaves': 101, 'feature_fraction': 0.6158405405198908, 'bagging_fraction': 0.49612790326753337, 'bagging_freq': 3, 'min_child_samples': 14}.\n",
      "[I 2019-11-12 11:03:37,666] Finished trial#89 resulted in value: 0.7757847533632287. Current best value is 0.8609865470852018 with parameters: {'lambda_l1': 2.460993008963375e-06, 'lambda_l2': 0.002217296722509097, 'num_leaves': 101, 'feature_fraction': 0.6158405405198908, 'bagging_fraction': 0.49612790326753337, 'bagging_freq': 3, 'min_child_samples': 14}.\n",
      "[I 2019-11-12 11:03:38,106] Finished trial#90 resulted in value: 0.7668161434977578. Current best value is 0.8609865470852018 with parameters: {'lambda_l1': 2.460993008963375e-06, 'lambda_l2': 0.002217296722509097, 'num_leaves': 101, 'feature_fraction': 0.6158405405198908, 'bagging_fraction': 0.49612790326753337, 'bagging_freq': 3, 'min_child_samples': 14}.\n",
      "[I 2019-11-12 11:03:38,617] Finished trial#91 resulted in value: 0.8026905829596412. Current best value is 0.8609865470852018 with parameters: {'lambda_l1': 2.460993008963375e-06, 'lambda_l2': 0.002217296722509097, 'num_leaves': 101, 'feature_fraction': 0.6158405405198908, 'bagging_fraction': 0.49612790326753337, 'bagging_freq': 3, 'min_child_samples': 14}.\n",
      "[I 2019-11-12 11:03:39,094] Finished trial#92 resulted in value: 0.7488789237668162. Current best value is 0.8609865470852018 with parameters: {'lambda_l1': 2.460993008963375e-06, 'lambda_l2': 0.002217296722509097, 'num_leaves': 101, 'feature_fraction': 0.6158405405198908, 'bagging_fraction': 0.49612790326753337, 'bagging_freq': 3, 'min_child_samples': 14}.\n",
      "[I 2019-11-12 11:03:39,733] Finished trial#93 resulted in value: 0.8251121076233184. Current best value is 0.8609865470852018 with parameters: {'lambda_l1': 2.460993008963375e-06, 'lambda_l2': 0.002217296722509097, 'num_leaves': 101, 'feature_fraction': 0.6158405405198908, 'bagging_fraction': 0.49612790326753337, 'bagging_freq': 3, 'min_child_samples': 14}.\n",
      "[I 2019-11-12 11:03:40,551] Finished trial#94 resulted in value: 0.7847533632286996. Current best value is 0.8609865470852018 with parameters: {'lambda_l1': 2.460993008963375e-06, 'lambda_l2': 0.002217296722509097, 'num_leaves': 101, 'feature_fraction': 0.6158405405198908, 'bagging_fraction': 0.49612790326753337, 'bagging_freq': 3, 'min_child_samples': 14}.\n",
      "[I 2019-11-12 11:03:41,154] Finished trial#95 resulted in value: 0.7937219730941704. Current best value is 0.8609865470852018 with parameters: {'lambda_l1': 2.460993008963375e-06, 'lambda_l2': 0.002217296722509097, 'num_leaves': 101, 'feature_fraction': 0.6158405405198908, 'bagging_fraction': 0.49612790326753337, 'bagging_freq': 3, 'min_child_samples': 14}.\n",
      "[I 2019-11-12 11:03:41,686] Finished trial#96 resulted in value: 0.7623318385650224. Current best value is 0.8609865470852018 with parameters: {'lambda_l1': 2.460993008963375e-06, 'lambda_l2': 0.002217296722509097, 'num_leaves': 101, 'feature_fraction': 0.6158405405198908, 'bagging_fraction': 0.49612790326753337, 'bagging_freq': 3, 'min_child_samples': 14}.\n",
      "[I 2019-11-12 11:03:42,074] Finished trial#97 resulted in value: 0.8116591928251121. Current best value is 0.8609865470852018 with parameters: {'lambda_l1': 2.460993008963375e-06, 'lambda_l2': 0.002217296722509097, 'num_leaves': 101, 'feature_fraction': 0.6158405405198908, 'bagging_fraction': 0.49612790326753337, 'bagging_freq': 3, 'min_child_samples': 14}.\n",
      "[I 2019-11-12 11:03:42,475] Finished trial#98 resulted in value: 0.7982062780269058. Current best value is 0.8609865470852018 with parameters: {'lambda_l1': 2.460993008963375e-06, 'lambda_l2': 0.002217296722509097, 'num_leaves': 101, 'feature_fraction': 0.6158405405198908, 'bagging_fraction': 0.49612790326753337, 'bagging_freq': 3, 'min_child_samples': 14}.\n",
      "[I 2019-11-12 11:03:43,052] Finished trial#99 resulted in value: 0.8071748878923767. Current best value is 0.8609865470852018 with parameters: {'lambda_l1': 2.460993008963375e-06, 'lambda_l2': 0.002217296722509097, 'num_leaves': 101, 'feature_fraction': 0.6158405405198908, 'bagging_fraction': 0.49612790326753337, 'bagging_freq': 3, 'min_child_samples': 14}.\n"
     ]
    },
    {
     "name": "stdout",
     "output_type": "stream",
     "text": [
      "Number of finished trials: 100\n",
      "Best trial:\n",
      "  Value: 0.8609865470852018\n",
      "  Params: \n",
      "    lambda_l1: 2.460993008963375e-06\n",
      "    lambda_l2: 0.002217296722509097\n",
      "    num_leaves: 101\n",
      "    feature_fraction: 0.6158405405198908\n",
      "    bagging_fraction: 0.49612790326753337\n",
      "    bagging_freq: 3\n",
      "    min_child_samples: 14\n"
     ]
    }
   ],
   "source": [
    "study = optuna.create_study(direction='maximize')\n",
    "study.optimize(objective, n_trials=100)\n",
    "\n",
    "print('Number of finished trials: {}'.format(len(study.trials)))\n",
    "\n",
    "print('Best trial:')\n",
    "trial = study.best_trial\n",
    "\n",
    "print('  Value: {}'.format(trial.value))\n",
    "\n",
    "print('  Params: ')\n",
    "for key, value in trial.params.items():\n",
    "    print('    {}: {}'.format(key, value))"
   ]
  },
  {
   "cell_type": "code",
   "execution_count": 26,
   "metadata": {
    "ExecuteTime": {
     "end_time": "2019-11-12T11:06:45.140089Z",
     "start_time": "2019-11-12T11:06:45.092658Z"
    }
   },
   "outputs": [],
   "source": [
    "import pickle\n",
    "with open(\"./../output/hp_tuning_results/{}_study.pickle\".format(config_file_name), \"wb\") as f:\n",
    "    pickle.dump(study, f)\n"
   ]
  },
  {
   "cell_type": "code",
   "execution_count": null,
   "metadata": {},
   "outputs": [],
   "source": []
  }
 ],
 "metadata": {
  "kernelspec": {
   "display_name": "Python 3",
   "language": "python",
   "name": "python3"
  },
  "language_info": {
   "codemirror_mode": {
    "name": "ipython",
    "version": 3
   },
   "file_extension": ".py",
   "mimetype": "text/x-python",
   "name": "python",
   "nbconvert_exporter": "python",
   "pygments_lexer": "ipython3",
   "version": "3.6.6"
  },
  "toc": {
   "base_numbering": 1,
   "nav_menu": {},
   "number_sections": true,
   "sideBar": true,
   "skip_h1_title": false,
   "title_cell": "Table of Contents",
   "title_sidebar": "Contents",
   "toc_cell": false,
   "toc_position": {},
   "toc_section_display": true,
   "toc_window_display": false
  },
  "varInspector": {
   "cols": {
    "lenName": 16,
    "lenType": 16,
    "lenVar": 40
   },
   "kernels_config": {
    "python": {
     "delete_cmd_postfix": "",
     "delete_cmd_prefix": "del ",
     "library": "var_list.py",
     "varRefreshCmd": "print(var_dic_list())"
    },
    "r": {
     "delete_cmd_postfix": ") ",
     "delete_cmd_prefix": "rm(",
     "library": "var_list.r",
     "varRefreshCmd": "cat(var_dic_list()) "
    }
   },
   "types_to_exclude": [
    "module",
    "function",
    "builtin_function_or_method",
    "instance",
    "_Feature"
   ],
   "window_display": false
  }
 },
 "nbformat": 4,
 "nbformat_minor": 2
}

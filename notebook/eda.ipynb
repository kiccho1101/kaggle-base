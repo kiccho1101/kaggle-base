{
 "cells": [
  {
   "cell_type": "code",
   "execution_count": null,
   "metadata": {},
   "outputs": [],
   "source": []
  },
  {
   "cell_type": "code",
   "execution_count": 1,
   "metadata": {
    "ExecuteTime": {
     "end_time": "2019-11-12T09:31:25.744954Z",
     "start_time": "2019-11-12T09:31:25.722296Z"
    }
   },
   "outputs": [],
   "source": [
    "import os\n",
    "import sys\n",
    "\n",
    "# Init project path\n",
    "PROJECT_DIR = os.getcwd() + \"/../\"\n",
    "sys.path.insert(0, PROJECT_DIR)\n",
    "%load_ext autoreload\n",
    "%autoreload 2"
   ]
  },
  {
   "cell_type": "code",
   "execution_count": 2,
   "metadata": {
    "ExecuteTime": {
     "end_time": "2019-11-12T09:31:27.739954Z",
     "start_time": "2019-11-12T09:31:27.723625Z"
    }
   },
   "outputs": [],
   "source": [
    "import json\n",
    "\n",
    "config: dict = json.load(open(\"./../configs/lightgbm_0.json\"))"
   ]
  },
  {
   "cell_type": "code",
   "execution_count": 3,
   "metadata": {
    "ExecuteTime": {
     "end_time": "2019-11-12T09:31:31.118940Z",
     "start_time": "2019-11-12T09:31:30.722363Z"
    }
   },
   "outputs": [],
   "source": [
    "from db import table_load\n",
    "\n",
    "# Load data\n",
    "train = table_load(table_name=config[\"dataset\"][\"train_table\"])\n",
    "test = table_load(table_name=config[\"dataset\"][\"test_table\"])"
   ]
  },
  {
   "cell_type": "code",
   "execution_count": 69,
   "metadata": {
    "ExecuteTime": {
     "end_time": "2019-11-12T09:48:48.913464Z",
     "start_time": "2019-11-12T09:48:48.864118Z"
    }
   },
   "outputs": [],
   "source": [
    "import pandas as pd\n",
    "from db import find_table_name\n",
    "table_names = []\n",
    "table_names += find_table_name(like=\"train\")[\"table_name\"].to_list()\n",
    "table_names += find_table_name(like=\"test\")[\"table_name\"].to_list()\n",
    "table_names += find_table_name(like=\"cv_result\")[\"table_name\"].to_list()"
   ]
  },
  {
   "cell_type": "code",
   "execution_count": 137,
   "metadata": {
    "ExecuteTime": {
     "end_time": "2019-11-12T10:32:44.503963Z",
     "start_time": "2019-11-12T10:32:41.963799Z"
    },
    "code_folding": []
   },
   "outputs": [],
   "source": [
    "from db import table_write, table_load\n",
    "\n",
    "for table_name in table_names:\n",
    "    df = table_load(table_name=table_name)\n",
    "    stats = pd.concat([\n",
    "        df.dtypes.rename(\"dtype\").astype(str).to_frame(),\n",
    "        df.isnull().sum().rename(\"null_count\").to_frame(),\n",
    "        df.describe().T.rename(columns={\"25%\": \"per_25\", \"50%\": \"per_50\", \"75%\": \"per_75\"}),\n",
    "    ], axis=1, sort=False)\n",
    "    table_write(\n",
    "        table_name=\"{}_stats\".format(table_name),\n",
    "        df=stats,\n",
    "    )"
   ]
  }
 ],
 "metadata": {
  "kernelspec": {
   "display_name": "Python 3",
   "language": "python",
   "name": "python3"
  },
  "language_info": {
   "codemirror_mode": {
    "name": "ipython",
    "version": 3
   },
   "file_extension": ".py",
   "mimetype": "text/x-python",
   "name": "python",
   "nbconvert_exporter": "python",
   "pygments_lexer": "ipython3",
   "version": "3.6.6"
  },
  "toc": {
   "base_numbering": 1,
   "nav_menu": {},
   "number_sections": true,
   "sideBar": true,
   "skip_h1_title": false,
   "title_cell": "Table of Contents",
   "title_sidebar": "Contents",
   "toc_cell": false,
   "toc_position": {},
   "toc_section_display": true,
   "toc_window_display": false
  },
  "varInspector": {
   "cols": {
    "lenName": 16,
    "lenType": 16,
    "lenVar": 40
   },
   "kernels_config": {
    "python": {
     "delete_cmd_postfix": "",
     "delete_cmd_prefix": "del ",
     "library": "var_list.py",
     "varRefreshCmd": "print(var_dic_list())"
    },
    "r": {
     "delete_cmd_postfix": ") ",
     "delete_cmd_prefix": "rm(",
     "library": "var_list.r",
     "varRefreshCmd": "cat(var_dic_list()) "
    }
   },
   "types_to_exclude": [
    "module",
    "function",
    "builtin_function_or_method",
    "instance",
    "_Feature"
   ],
   "window_display": false
  }
 },
 "nbformat": 4,
 "nbformat_minor": 2
}

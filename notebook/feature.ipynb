{
 "cells": [
  {
   "cell_type": "code",
   "execution_count": null,
   "metadata": {},
   "outputs": [],
   "source": []
  },
  {
   "cell_type": "code",
   "execution_count": 56,
   "metadata": {
    "ExecuteTime": {
     "end_time": "2019-11-11T13:54:06.440220Z",
     "start_time": "2019-11-11T13:54:06.409282Z"
    }
   },
   "outputs": [
    {
     "name": "stdout",
     "output_type": "stream",
     "text": [
      "The autoreload extension is already loaded. To reload it, use:\n",
      "  %reload_ext autoreload\n"
     ]
    }
   ],
   "source": [
    "import os\n",
    "import sys\n",
    "\n",
    "# Init project path\n",
    "PROJECT_DIR = os.getcwd() + \"/../\"\n",
    "sys.path.insert(0, PROJECT_DIR)\n",
    "%load_ext autoreload\n",
    "%autoreload 2"
   ]
  },
  {
   "cell_type": "code",
   "execution_count": 57,
   "metadata": {
    "ExecuteTime": {
     "end_time": "2019-11-11T13:54:07.144895Z",
     "start_time": "2019-11-11T13:54:07.106272Z"
    }
   },
   "outputs": [],
   "source": [
    "import os\n",
    "import re\n",
    "import pandas as pd\n",
    "import psycopg2\n",
    "\n",
    "\n",
    "table_name = \"train\"\n",
    "col_names = [\"sex\"]\n",
    "\n",
    "col_names_snake_case = [\n",
    "    re.sub(\"([A-Z])\", lambda x: \"_\" + x.group(1).lower(), col_name).lstrip(\"_\")\n",
    "    for col_name in col_names\n",
    "]\n",
    "\n",
    "with psycopg2.connect(\n",
    "    user=os.environ[\"POSTGRES_USER\"],\n",
    "    password=os.environ[\"POSTGRES_PASSWORD\"],\n",
    "    host=os.environ[\"POSTGRES_HOST\"],\n",
    "    port=5432,\n",
    "    database=os.environ[\"PROJECT_NAME\"],\n",
    ") as conn:\n",
    "    df = pd.read_sql(\n",
    "        \"SELECT index, {} FROM {};\".format(\", \".join(col_names_snake_case), table_name),\n",
    "        con=conn,\n",
    "    ).set_index(\"index\")"
   ]
  },
  {
   "cell_type": "code",
   "execution_count": 60,
   "metadata": {
    "ExecuteTime": {
     "end_time": "2019-11-11T13:54:32.237222Z",
     "start_time": "2019-11-11T13:54:32.059190Z"
    }
   },
   "outputs": [
    {
     "name": "stdout",
     "output_type": "stream",
     "text": [
      "\n",
      "    ALTER TABLE train DROP COLUMN IF EXISTS sex;\n",
      "    ALTER TABLE train ADD COLUMN sex TEXT;\n",
      "    UPDATE train t1\n",
      "    SET    sex = t2.sex\n",
      "    FROM   train_tmp t2\n",
      "    WHERE  t1.index = t2.index\n",
      "    \n",
      "\n",
      "    ALTER TABLE train DROP COLUMN IF EXISTS sex_int;\n",
      "    ALTER TABLE train ADD COLUMN sex_int BIGINT;\n",
      "    UPDATE train t1\n",
      "    SET    sex_int = t2.sex_int\n",
      "    FROM   train_tmp t2\n",
      "    WHERE  t1.index = t2.index\n",
      "    \n"
     ]
    }
   ],
   "source": [
    "from sqlalchemy import create_engine\n",
    "\n",
    "engine = create_engine(\n",
    "    \"postgresql://{}:{}@{}:5432/{}\".format(\n",
    "        os.environ[\"POSTGRES_USER\"],\n",
    "        os.environ[\"POSTGRES_PASSWORD\"],\n",
    "        os.environ[\"POSTGRES_HOST\"],\n",
    "        os.environ[\"PROJECT_NAME\"],\n",
    "    )\n",
    ")\n",
    "df.to_sql(name=table_name+\"_tmp\", con=engine, if_exists=\"replace\", index=True)\n",
    "\n",
    "dtype_mapper = {\n",
    "    np.dtype(\"object\"): \"TEXT\",\n",
    "    np.dtype(\"int64\"): \"BIGINT\",\n",
    "    \n",
    "}\n",
    "\n",
    "queries = [\n",
    "    \"\"\"\n",
    "    ALTER TABLE {0} DROP COLUMN IF EXISTS {1};\n",
    "    ALTER TABLE {0} ADD COLUMN {1} {2};\n",
    "    UPDATE {0} t1\n",
    "    SET    {1} = t2.{1}\n",
    "    FROM   {0}_tmp t2\n",
    "    WHERE  t1.index = t2.index\n",
    "    \"\"\".format(table_name, col_name, dtype)\n",
    "    for col_name, dtype in df.dtypes.map(dtype_mapper).iteritems()\n",
    "]\n",
    "\n",
    "with psycopg2.connect(\n",
    "    user=os.environ[\"POSTGRES_USER\"],\n",
    "    password=os.environ[\"POSTGRES_PASSWORD\"],\n",
    "    host=os.environ[\"POSTGRES_HOST\"],\n",
    "    port=5432,\n",
    "    database=os.environ[\"PROJECT_NAME\"],\n",
    ") as conn, conn.cursor() as cur:\n",
    "    for query in queries:\n",
    "        cur.execute(query)\n",
    "    conn.commit()\n",
    "    \n",
    "    cur.execute(\"DROP TABLE {}_tmp;\".format(table_name))\n",
    "    conn.commit()"
   ]
  },
  {
   "cell_type": "code",
   "execution_count": 65,
   "metadata": {
    "ExecuteTime": {
     "end_time": "2019-11-11T14:07:14.823842Z",
     "start_time": "2019-11-11T14:07:14.786076Z"
    }
   },
   "outputs": [
    {
     "name": "stdout",
     "output_type": "stream",
     "text": [
      "[table load (train)] start\n",
      "[table load (train)] done in 0.0105 s\n",
      "\n"
     ]
    }
   ],
   "source": [
    "from db import table_load\n",
    "df = table_load(\"train\", cols=[\"sex\"])\n",
    "df[\"sex_int\"] = df[\"sex\"].map({\"male\": 0, \"female\": 1})"
   ]
  },
  {
   "cell_type": "code",
   "execution_count": 66,
   "metadata": {
    "ExecuteTime": {
     "end_time": "2019-11-11T14:07:17.260234Z",
     "start_time": "2019-11-11T14:07:17.227070Z"
    }
   },
   "outputs": [
    {
     "data": {
      "text/html": [
       "<div>\n",
       "<style scoped>\n",
       "    .dataframe tbody tr th:only-of-type {\n",
       "        vertical-align: middle;\n",
       "    }\n",
       "\n",
       "    .dataframe tbody tr th {\n",
       "        vertical-align: top;\n",
       "    }\n",
       "\n",
       "    .dataframe thead th {\n",
       "        text-align: right;\n",
       "    }\n",
       "</style>\n",
       "<table border=\"1\" class=\"dataframe\">\n",
       "  <thead>\n",
       "    <tr style=\"text-align: right;\">\n",
       "      <th></th>\n",
       "      <th>sex</th>\n",
       "      <th>sex_int</th>\n",
       "    </tr>\n",
       "    <tr>\n",
       "      <th>index</th>\n",
       "      <th></th>\n",
       "      <th></th>\n",
       "    </tr>\n",
       "  </thead>\n",
       "  <tbody>\n",
       "    <tr>\n",
       "      <th>0</th>\n",
       "      <td>male</td>\n",
       "      <td>0</td>\n",
       "    </tr>\n",
       "    <tr>\n",
       "      <th>1</th>\n",
       "      <td>female</td>\n",
       "      <td>1</td>\n",
       "    </tr>\n",
       "    <tr>\n",
       "      <th>2</th>\n",
       "      <td>female</td>\n",
       "      <td>1</td>\n",
       "    </tr>\n",
       "    <tr>\n",
       "      <th>3</th>\n",
       "      <td>female</td>\n",
       "      <td>1</td>\n",
       "    </tr>\n",
       "    <tr>\n",
       "      <th>4</th>\n",
       "      <td>male</td>\n",
       "      <td>0</td>\n",
       "    </tr>\n",
       "    <tr>\n",
       "      <th>...</th>\n",
       "      <td>...</td>\n",
       "      <td>...</td>\n",
       "    </tr>\n",
       "    <tr>\n",
       "      <th>886</th>\n",
       "      <td>male</td>\n",
       "      <td>0</td>\n",
       "    </tr>\n",
       "    <tr>\n",
       "      <th>887</th>\n",
       "      <td>female</td>\n",
       "      <td>1</td>\n",
       "    </tr>\n",
       "    <tr>\n",
       "      <th>888</th>\n",
       "      <td>female</td>\n",
       "      <td>1</td>\n",
       "    </tr>\n",
       "    <tr>\n",
       "      <th>889</th>\n",
       "      <td>male</td>\n",
       "      <td>0</td>\n",
       "    </tr>\n",
       "    <tr>\n",
       "      <th>890</th>\n",
       "      <td>male</td>\n",
       "      <td>0</td>\n",
       "    </tr>\n",
       "  </tbody>\n",
       "</table>\n",
       "<p>891 rows × 2 columns</p>\n",
       "</div>"
      ],
      "text/plain": [
       "          sex  sex_int\n",
       "index                 \n",
       "0        male        0\n",
       "1      female        1\n",
       "2      female        1\n",
       "3      female        1\n",
       "4        male        0\n",
       "...       ...      ...\n",
       "886      male        0\n",
       "887    female        1\n",
       "888    female        1\n",
       "889      male        0\n",
       "890      male        0\n",
       "\n",
       "[891 rows x 2 columns]"
      ]
     },
     "execution_count": 66,
     "metadata": {},
     "output_type": "execute_result"
    }
   ],
   "source": [
    "df"
   ]
  },
  {
   "cell_type": "code",
   "execution_count": 67,
   "metadata": {
    "ExecuteTime": {
     "end_time": "2019-11-11T14:07:30.257823Z",
     "start_time": "2019-11-11T14:07:30.093615Z"
    }
   },
   "outputs": [],
   "source": [
    "from db import insert_cols\n",
    "insert_cols(table_name=\"train\", df=df)"
   ]
  }
 ],
 "metadata": {
  "kernelspec": {
   "display_name": "Python 3",
   "language": "python",
   "name": "python3"
  },
  "language_info": {
   "codemirror_mode": {
    "name": "ipython",
    "version": 3
   },
   "file_extension": ".py",
   "mimetype": "text/x-python",
   "name": "python",
   "nbconvert_exporter": "python",
   "pygments_lexer": "ipython3",
   "version": "3.6.6"
  },
  "toc": {
   "base_numbering": 1,
   "nav_menu": {},
   "number_sections": true,
   "sideBar": true,
   "skip_h1_title": false,
   "title_cell": "Table of Contents",
   "title_sidebar": "Contents",
   "toc_cell": false,
   "toc_position": {},
   "toc_section_display": true,
   "toc_window_display": false
  },
  "varInspector": {
   "cols": {
    "lenName": 16,
    "lenType": 16,
    "lenVar": 40
   },
   "kernels_config": {
    "python": {
     "delete_cmd_postfix": "",
     "delete_cmd_prefix": "del ",
     "library": "var_list.py",
     "varRefreshCmd": "print(var_dic_list())"
    },
    "r": {
     "delete_cmd_postfix": ") ",
     "delete_cmd_prefix": "rm(",
     "library": "var_list.r",
     "varRefreshCmd": "cat(var_dic_list()) "
    }
   },
   "types_to_exclude": [
    "module",
    "function",
    "builtin_function_or_method",
    "instance",
    "_Feature"
   ],
   "window_display": false
  }
 },
 "nbformat": 4,
 "nbformat_minor": 2
}

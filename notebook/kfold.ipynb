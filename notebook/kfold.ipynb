{
 "cells": [
  {
   "cell_type": "code",
   "execution_count": null,
   "metadata": {},
   "outputs": [],
   "source": []
  },
  {
   "cell_type": "code",
   "execution_count": 1,
   "metadata": {
    "ExecuteTime": {
     "end_time": "2019-11-11T15:52:22.483322Z",
     "start_time": "2019-11-11T15:52:22.459919Z"
    }
   },
   "outputs": [],
   "source": [
    "import os\n",
    "import sys\n",
    "\n",
    "# Init project path\n",
    "PROJECT_DIR = os.getcwd() + \"/../\"\n",
    "sys.path.insert(0, PROJECT_DIR)\n",
    "%load_ext autoreload\n",
    "%autoreload 2"
   ]
  },
  {
   "cell_type": "code",
   "execution_count": null,
   "metadata": {},
   "outputs": [],
   "source": [
    "import argparse\n",
    "\n",
    "parser = argparse.ArgumentParser()\n",
    "parser.add_argument(\"--config\", default=\"lightgbm_0\"\n",
    "options = parser.parse_args()\n"
   ]
  },
  {
   "cell_type": "code",
   "execution_count": 9,
   "metadata": {
    "ExecuteTime": {
     "end_time": "2019-11-11T15:57:02.678007Z",
     "start_time": "2019-11-11T15:57:02.649791Z"
    }
   },
   "outputs": [],
   "source": [
    "import json\n",
    "options = json.load(open(\"./../configs/lightgbm_0.json\"))"
   ]
  },
  {
   "cell_type": "code",
   "execution_count": 13,
   "metadata": {
    "ExecuteTime": {
     "end_time": "2019-11-11T16:00:41.437755Z",
     "start_time": "2019-11-11T16:00:40.160796Z"
    }
   },
   "outputs": [
    {
     "name": "stdout",
     "output_type": "stream",
     "text": [
      "[table load (train)] start\n",
      "[table load (train)] done in 0.0213 s\n",
      "\n",
      "[table write (cv_train_0)] start\n",
      "[table write (cv_train_0)] done in 0.1993 s\n",
      "\n",
      "[table write (cv_test_0)] start\n",
      "[table write (cv_test_0)] done in 0.0659 s\n",
      "\n",
      "[table write (cv_train_1)] start\n",
      "[table write (cv_train_1)] done in 0.1717 s\n",
      "\n",
      "[table write (cv_test_1)] start\n",
      "[table write (cv_test_1)] done in 0.0666 s\n",
      "\n",
      "[table write (cv_train_2)] start\n",
      "[table write (cv_train_2)] done in 0.1748 s\n",
      "\n",
      "[table write (cv_test_2)] start\n",
      "[table write (cv_test_2)] done in 0.0686 s\n",
      "\n",
      "[table write (cv_train_3)] start\n",
      "[table write (cv_train_3)] done in 0.1677 s\n",
      "\n",
      "[table write (cv_test_3)] start\n",
      "[table write (cv_test_3)] done in 0.0621 s\n",
      "\n",
      "[table write (cv_train_4)] start\n",
      "[table write (cv_train_4)] done in 0.1626 s\n",
      "\n",
      "[table write (cv_test_4)] start\n",
      "[table write (cv_test_4)] done in 0.0633 s\n",
      "\n"
     ]
    }
   ],
   "source": [
    "from sklearn.model_selection import StratifiedKFold\n",
    "from db import table_load, table_write\n",
    "\n",
    "train = table_load(\"train\")\n",
    "\n",
    "folds = StratifiedKFold(\n",
    "    n_splits=options[\"cv\"][\"n_splits\"],\n",
    "    shuffle=True,\n",
    "    random_state=options[\"cv\"][\"random_state\"],\n",
    ").split(train, train[options[\"features\"][\"target\"]])\n",
    "\n",
    "for n_fold, (train_index, valid_index) in enumerate(folds):\n",
    "    cv_train_df = train.loc[train_index]\n",
    "    cv_test_df = train.loc[valid_index]\n",
    "    table_write(df=cv_train_df, table_name=\"cv_train_{}\".format(n_fold))\n",
    "    table_write(df=cv_test_df, table_name=\"cv_test_{}\".format(n_fold))"
   ]
  },
  {
   "cell_type": "code",
   "execution_count": 17,
   "metadata": {
    "ExecuteTime": {
     "end_time": "2019-11-11T16:23:23.910593Z",
     "start_time": "2019-11-11T16:23:23.870974Z"
    }
   },
   "outputs": [
    {
     "data": {
      "text/plain": [
       "['cv_train_0', 'cv_train_1', 'cv_train_2', 'cv_train_3', 'cv_train_4']"
      ]
     },
     "execution_count": 17,
     "metadata": {},
     "output_type": "execute_result"
    }
   ],
   "source": [
    "from db import find_table_name\n",
    "find_table_name(\"cv_train\")[\"table_name\"].tolist()\n"
   ]
  }
 ],
 "metadata": {
  "kernelspec": {
   "display_name": "Python 3",
   "language": "python",
   "name": "python3"
  },
  "language_info": {
   "codemirror_mode": {
    "name": "ipython",
    "version": 3
   },
   "file_extension": ".py",
   "mimetype": "text/x-python",
   "name": "python",
   "nbconvert_exporter": "python",
   "pygments_lexer": "ipython3",
   "version": "3.6.6"
  },
  "toc": {
   "base_numbering": 1,
   "nav_menu": {},
   "number_sections": true,
   "sideBar": true,
   "skip_h1_title": false,
   "title_cell": "Table of Contents",
   "title_sidebar": "Contents",
   "toc_cell": false,
   "toc_position": {},
   "toc_section_display": true,
   "toc_window_display": false
  },
  "varInspector": {
   "cols": {
    "lenName": 16,
    "lenType": 16,
    "lenVar": 40
   },
   "kernels_config": {
    "python": {
     "delete_cmd_postfix": "",
     "delete_cmd_prefix": "del ",
     "library": "var_list.py",
     "varRefreshCmd": "print(var_dic_list())"
    },
    "r": {
     "delete_cmd_postfix": ") ",
     "delete_cmd_prefix": "rm(",
     "library": "var_list.r",
     "varRefreshCmd": "cat(var_dic_list()) "
    }
   },
   "types_to_exclude": [
    "module",
    "function",
    "builtin_function_or_method",
    "instance",
    "_Feature"
   ],
   "window_display": false
  }
 },
 "nbformat": 4,
 "nbformat_minor": 2
}

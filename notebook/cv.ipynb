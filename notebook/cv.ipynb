{
 "cells": [
  {
   "cell_type": "code",
   "execution_count": null,
   "metadata": {},
   "outputs": [],
   "source": []
  },
  {
   "cell_type": "code",
   "execution_count": 1,
   "metadata": {
    "ExecuteTime": {
     "end_time": "2019-11-12T08:52:19.411829Z",
     "start_time": "2019-11-12T08:52:19.388221Z"
    }
   },
   "outputs": [],
   "source": [
    "import os\n",
    "import sys\n",
    "\n",
    "# Init project path\n",
    "PROJECT_DIR = os.getcwd() + \"/../\"\n",
    "sys.path.insert(0, PROJECT_DIR)\n",
    "%load_ext autoreload\n",
    "%autoreload 2"
   ]
  },
  {
   "cell_type": "code",
   "execution_count": 14,
   "metadata": {
    "ExecuteTime": {
     "end_time": "2019-11-12T09:07:15.614735Z",
     "start_time": "2019-11-12T09:07:15.582905Z"
    }
   },
   "outputs": [
    {
     "name": "stdout",
     "output_type": "stream",
     "text": [
      "Config file Name:  lightgbm_0\n"
     ]
    }
   ],
   "source": [
    "from models import LightGBM\n",
    "\n",
    "if len(sys.argv) == 2:\n",
    "    config_file_name = sys.argv[1]\n",
    "else:\n",
    "    config_file_name = \"lightgbm_0\"\n",
    "\n",
    "print(\"Config file Name: \", config_file_name)\n",
    "\n",
    "# Parse args\n",
    "config: dict = json.load(open(\"./../configs/{}.json\".format(config_file_name)))\n",
    "    \n",
    "models: dict = {\"lightgbm\": LightGBM}\n",
    "model = models[config[\"model\"][\"name\"]]()"
   ]
  },
  {
   "cell_type": "code",
   "execution_count": 15,
   "metadata": {
    "ExecuteTime": {
     "end_time": "2019-11-12T09:07:24.458004Z",
     "start_time": "2019-11-12T09:07:23.312149Z"
    }
   },
   "outputs": [
    {
     "name": "stdout",
     "output_type": "stream",
     "text": [
      "[CV No.0] start\n",
      "Accuracy: 0.7430167597765364\n",
      "[CV No.0] done in 0.2459 s\n",
      "\n",
      "[CV No.1] start\n",
      "Accuracy: 0.8044692737430168\n",
      "[CV No.1] done in 0.2102 s\n",
      "\n",
      "[CV No.2] start\n",
      "Accuracy: 0.7921348314606742\n",
      "[CV No.2] done in 0.1973 s\n",
      "\n",
      "[CV No.3] start\n",
      "Accuracy: 0.8258426966292135\n",
      "[CV No.3] done in 0.2462 s\n",
      "\n",
      "[CV No.4] start\n",
      "Accuracy: 0.7966101694915254\n",
      "[CV No.4] done in 0.2058 s\n",
      "\n"
     ]
    }
   ],
   "source": [
    "import json\n",
    "import sys\n",
    "\n",
    "import numpy as np\n",
    "import pandas as pd\n",
    "\n",
    "from db import table_load\n",
    "from models import LightGBM, Model\n",
    "from utils import timer\n",
    "\n",
    "cv_result = pd.DataFrame()\n",
    "cv_models = []\n",
    "n_splits = config[\"cv\"][\"n_splits\"]\n",
    "random_state = config[\"cv\"][\"random_state\"]\n",
    "target_cols = config[\"features\"][\"target\"]\n",
    "train_cols = config[\"features\"][\"train\"]\n",
    "categorical_cols = config[\"features\"][\"categorical\"]\n",
    "params = config[\"model\"]\n",
    "\n",
    "for n_fold in range(n_splits):\n",
    "    with timer(\"CV No.{}\".format(n_fold)):\n",
    "        train = table_load(\n",
    "            \"cv_train_{}\".format(n_fold), train_cols + target_cols\n",
    "        )\n",
    "        valid = table_load(\n",
    "            \"cv_test_{}\".format(n_fold), train_cols + target_cols\n",
    "        )\n",
    "\n",
    "        cv_model, y_pred = model.train_and_predict(\n",
    "            train=train,\n",
    "            valid=valid,\n",
    "            weight=None,\n",
    "            categorical_features=categorical_cols,\n",
    "            target_cols=target_cols,\n",
    "            train_cols=train_cols,\n",
    "            params=params,\n",
    "        )\n",
    "\n",
    "        cv_models.append(cv_model)\n",
    "\n",
    "        y_real = valid[target_cols].iloc[:, 0].values.flatten()\n",
    "        cv_result = pd.concat(\n",
    "            [\n",
    "                cv_result,\n",
    "                pd.DataFrame(\n",
    "                    {\n",
    "                        \"index\": valid.index,\n",
    "                        \"predicted\": y_pred.flatten(),\n",
    "                        \"real\": y_real,\n",
    "                        \"difference\": y_pred.flatten() - y_real,\n",
    "                        \"n_fold\": n_fold,\n",
    "                    }\n",
    "                ),\n",
    "            ]\n",
    "        )\n",
    "\n",
    "        predicted = (y_pred.flatten() > 0.5).astype(int)\n",
    "        accuracy = (predicted == y_real).sum() / len(predicted)\n",
    "\n",
    "        print(\"Accuracy: {}\".format(accuracy))"
   ]
  },
  {
   "cell_type": "code",
   "execution_count": 8,
   "metadata": {
    "ExecuteTime": {
     "end_time": "2019-11-12T08:54:45.566732Z",
     "start_time": "2019-11-12T08:54:45.535719Z"
    }
   },
   "outputs": [
    {
     "data": {
      "text/plain": [
       "array([0.12096708, 0.75858035, 0.09775892, 0.0961602 , 0.76331944,\n",
       "       0.41596917, 0.76944465, 0.6002301 , 0.31151882, 0.0850429 ,\n",
       "       0.84498453, 0.64716528, 0.62601293, 0.83543819, 0.31151882,\n",
       "       0.12096708, 0.75990298, 0.05222241, 0.29038332, 0.12635554,\n",
       "       0.14239152, 0.72188893, 0.05222241, 0.13315208, 0.6043488 ,\n",
       "       0.21107004, 0.09836593, 0.2712578 , 0.83687427, 0.31151882,\n",
       "       0.69772148, 0.05222241, 0.07105649, 0.15217173, 0.54161161,\n",
       "       0.19744159, 0.24020255, 0.70614422, 0.31151882, 0.24020255,\n",
       "       0.65765017, 0.11731821, 0.67972448, 0.90872927, 0.08178991,\n",
       "       0.24020255, 0.16447765, 0.0961602 , 0.0850429 , 0.0850429 ,\n",
       "       0.95868403, 0.05426592, 0.31303275, 0.64761765, 0.62601293,\n",
       "       0.25785554, 0.18117987, 0.71490184, 0.14105014, 0.69232926,\n",
       "       0.62601293, 0.64380698, 0.5839984 , 0.10485393, 0.07830178,\n",
       "       0.7054487 , 0.84575436, 0.10024103, 0.78625816, 0.84575436,\n",
       "       0.78169037, 0.93922025, 0.90872927, 0.12096708, 0.63132174,\n",
       "       0.9499697 , 0.69772148, 0.90872927, 0.14477041, 0.16725726,\n",
       "       0.16518828, 0.08178991, 0.86997822, 0.6002301 , 0.09153884,\n",
       "       0.62601293, 0.76944465, 0.15217173, 0.96829928, 0.20118895,\n",
       "       0.12857013, 0.64761765, 0.85183612, 0.37355332, 0.1073107 ,\n",
       "       0.32960019, 0.23120348, 0.09836593, 0.0850429 , 0.19390241,\n",
       "       0.85003528, 0.43885389, 0.37355332, 0.32263169, 0.10824852,\n",
       "       0.4902369 , 0.0850429 , 0.0850429 , 0.12857013, 0.18117987,\n",
       "       0.37355332, 0.62601293, 0.32282339, 0.08576465, 0.90872927,\n",
       "       0.58164272, 0.05426592, 0.06018572, 0.66978046, 0.0850429 ,\n",
       "       0.0850429 , 0.07673632, 0.0850429 , 0.10311498, 0.0850429 ,\n",
       "       0.32282339, 0.0850429 , 0.09477839, 0.1815936 , 0.16111844,\n",
       "       0.49269311, 0.57267293, 0.78518856, 0.24020255, 0.18117987,\n",
       "       0.58163686, 0.62601293, 0.18657561, 0.57843108, 0.05426592,\n",
       "       0.09629191, 0.37355332, 0.07416244, 0.11338333, 0.90872927,\n",
       "       0.13830353, 0.67702886, 0.63357338, 0.1616677 , 0.14613978,\n",
       "       0.10747211, 0.59995671, 0.09398647, 0.10890408, 0.05222241,\n",
       "       0.95756134, 0.77869268, 0.05222241, 0.15957011, 0.05073738,\n",
       "       0.32127776, 0.0850429 , 0.90872927, 0.31799682, 0.0850429 ,\n",
       "       0.09836593, 0.58826247, 0.09629191, 0.14806352, 0.05222241,\n",
       "       0.90872927, 0.59995671, 0.07673632, 0.05065818, 0.67157734,\n",
       "       0.74541269, 0.10747211, 0.65765017, 0.12699976])"
      ]
     },
     "execution_count": 8,
     "metadata": {},
     "output_type": "execute_result"
    }
   ],
   "source": [
    "y_pred"
   ]
  },
  {
   "cell_type": "code",
   "execution_count": null,
   "metadata": {},
   "outputs": [],
   "source": []
  }
 ],
 "metadata": {
  "kernelspec": {
   "display_name": "Python 3",
   "language": "python",
   "name": "python3"
  },
  "language_info": {
   "codemirror_mode": {
    "name": "ipython",
    "version": 3
   },
   "file_extension": ".py",
   "mimetype": "text/x-python",
   "name": "python",
   "nbconvert_exporter": "python",
   "pygments_lexer": "ipython3",
   "version": "3.6.6"
  },
  "toc": {
   "base_numbering": 1,
   "nav_menu": {},
   "number_sections": true,
   "sideBar": true,
   "skip_h1_title": false,
   "title_cell": "Table of Contents",
   "title_sidebar": "Contents",
   "toc_cell": false,
   "toc_position": {},
   "toc_section_display": true,
   "toc_window_display": false
  },
  "varInspector": {
   "cols": {
    "lenName": 16,
    "lenType": 16,
    "lenVar": 40
   },
   "kernels_config": {
    "python": {
     "delete_cmd_postfix": "",
     "delete_cmd_prefix": "del ",
     "library": "var_list.py",
     "varRefreshCmd": "print(var_dic_list())"
    },
    "r": {
     "delete_cmd_postfix": ") ",
     "delete_cmd_prefix": "rm(",
     "library": "var_list.r",
     "varRefreshCmd": "cat(var_dic_list()) "
    }
   },
   "types_to_exclude": [
    "module",
    "function",
    "builtin_function_or_method",
    "instance",
    "_Feature"
   ],
   "window_display": false
  }
 },
 "nbformat": 4,
 "nbformat_minor": 2
}
